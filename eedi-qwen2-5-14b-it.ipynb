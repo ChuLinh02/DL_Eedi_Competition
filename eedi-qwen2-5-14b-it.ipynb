{
 "cells": [
  {
   "cell_type": "markdown",
   "id": "aea0d8a9",
   "metadata": {},
   "source": [
    "<a id=\"3.1\"></a>\n",
    "<h2 style=\"font-family: Verdana; font-size: 25px; font-style: normal; font-weight: normal; text-decoration: none; text-transform: none; letter-spacing: 2px; color: #0A800B;\"><b>Cài đặt các thư viện cần thiết </b></h2>"
   ]
  },
  {
   "cell_type": "code",
   "execution_count": 1,
   "id": "c9d6cfd2",
   "metadata": {
    "execution": {
     "iopub.execute_input": "2025-01-17T02:56:02.378723Z",
     "iopub.status.busy": "2025-01-17T02:56:02.378398Z",
     "iopub.status.idle": "2025-01-17T02:56:12.063948Z",
     "shell.execute_reply": "2025-01-17T02:56:12.062793Z"
    },
    "papermill": {
     "duration": 9.695262,
     "end_time": "2025-01-17T02:56:12.066107",
     "exception": false,
     "start_time": "2025-01-17T02:56:02.370845",
     "status": "completed"
    },
    "tags": []
   },
   "outputs": [
    {
     "name": "stdout",
     "output_type": "stream",
     "text": [
      "Looking in links: /kaggle/input/lmsys-wheel-files\r\n",
      "Requirement already satisfied: transformers in /opt/conda/lib/python3.10/site-packages (4.45.1)\r\n",
      "Processing /kaggle/input/lmsys-wheel-files/peft-0.11.1-py3-none-any.whl\r\n",
      "Requirement already satisfied: accelerate in /opt/conda/lib/python3.10/site-packages (0.34.2)\r\n",
      "Requirement already satisfied: filelock in /opt/conda/lib/python3.10/site-packages (from transformers) (3.15.1)\r\n",
      "Requirement already satisfied: huggingface-hub<1.0,>=0.23.2 in /opt/conda/lib/python3.10/site-packages (from transformers) (0.25.1)\r\n",
      "Requirement already satisfied: numpy>=1.17 in /opt/conda/lib/python3.10/site-packages (from transformers) (1.26.4)\r\n",
      "Requirement already satisfied: packaging>=20.0 in /opt/conda/lib/python3.10/site-packages (from transformers) (21.3)\r\n",
      "Requirement already satisfied: pyyaml>=5.1 in /opt/conda/lib/python3.10/site-packages (from transformers) (6.0.2)\r\n",
      "Requirement already satisfied: regex!=2019.12.17 in /opt/conda/lib/python3.10/site-packages (from transformers) (2024.5.15)\r\n",
      "Requirement already satisfied: requests in /opt/conda/lib/python3.10/site-packages (from transformers) (2.32.3)\r\n",
      "Requirement already satisfied: safetensors>=0.4.1 in /opt/conda/lib/python3.10/site-packages (from transformers) (0.4.5)\r\n",
      "Requirement already satisfied: tokenizers<0.21,>=0.20 in /opt/conda/lib/python3.10/site-packages (from transformers) (0.20.0)\r\n",
      "Requirement already satisfied: tqdm>=4.27 in /opt/conda/lib/python3.10/site-packages (from transformers) (4.66.4)\r\n",
      "Requirement already satisfied: psutil in /opt/conda/lib/python3.10/site-packages (from peft) (5.9.3)\r\n",
      "Requirement already satisfied: torch>=1.13.0 in /opt/conda/lib/python3.10/site-packages (from peft) (2.4.0)\r\n",
      "Requirement already satisfied: fsspec>=2023.5.0 in /opt/conda/lib/python3.10/site-packages (from huggingface-hub<1.0,>=0.23.2->transformers) (2024.6.1)\r\n",
      "Requirement already satisfied: typing-extensions>=3.7.4.3 in /opt/conda/lib/python3.10/site-packages (from huggingface-hub<1.0,>=0.23.2->transformers) (4.12.2)\r\n",
      "Requirement already satisfied: pyparsing!=3.0.5,>=2.0.2 in /opt/conda/lib/python3.10/site-packages (from packaging>=20.0->transformers) (3.1.2)\r\n",
      "Requirement already satisfied: sympy in /opt/conda/lib/python3.10/site-packages (from torch>=1.13.0->peft) (1.13.3)\r\n",
      "Requirement already satisfied: networkx in /opt/conda/lib/python3.10/site-packages (from torch>=1.13.0->peft) (3.3)\r\n",
      "Requirement already satisfied: jinja2 in /opt/conda/lib/python3.10/site-packages (from torch>=1.13.0->peft) (3.1.4)\r\n",
      "Requirement already satisfied: charset-normalizer<4,>=2 in /opt/conda/lib/python3.10/site-packages (from requests->transformers) (3.3.2)\r\n",
      "Requirement already satisfied: idna<4,>=2.5 in /opt/conda/lib/python3.10/site-packages (from requests->transformers) (3.7)\r\n",
      "Requirement already satisfied: urllib3<3,>=1.21.1 in /opt/conda/lib/python3.10/site-packages (from requests->transformers) (1.26.18)\r\n",
      "Requirement already satisfied: certifi>=2017.4.17 in /opt/conda/lib/python3.10/site-packages (from requests->transformers) (2024.8.30)\r\n",
      "Requirement already satisfied: MarkupSafe>=2.0 in /opt/conda/lib/python3.10/site-packages (from jinja2->torch>=1.13.0->peft) (2.1.5)\r\n",
      "Requirement already satisfied: mpmath<1.4,>=1.1.0 in /opt/conda/lib/python3.10/site-packages (from sympy->torch>=1.13.0->peft) (1.3.0)\r\n",
      "Installing collected packages: peft\r\n",
      "Successfully installed peft-0.11.1\r\n"
     ]
    }
   ],
   "source": [
    "!pip install transformers peft accelerate \\\n",
    "    -U --no-index --find-links /kaggle/input/lmsys-wheel-files"
   ]
  },
  {
   "cell_type": "code",
   "execution_count": 2,
   "id": "eef81195",
   "metadata": {
    "execution": {
     "iopub.execute_input": "2025-01-17T02:56:12.080757Z",
     "iopub.status.busy": "2025-01-17T02:56:12.080447Z",
     "iopub.status.idle": "2025-01-17T02:56:24.600617Z",
     "shell.execute_reply": "2025-01-17T02:56:24.599393Z"
    },
    "papermill": {
     "duration": 12.529366,
     "end_time": "2025-01-17T02:56:24.602918",
     "exception": false,
     "start_time": "2025-01-17T02:56:12.073552",
     "status": "completed"
    },
    "tags": []
   },
   "outputs": [],
   "source": [
    "%%capture\n",
    "!pip install --no-index /kaggle/input/bitsandbytes0-42-0/bitsandbytes-0.42.0-py3-none-any.whl --find-links=/kaggle/input/bitsandbytes0-42-0"
   ]
  },
  {
   "cell_type": "code",
   "execution_count": 3,
   "id": "98e5b88e",
   "metadata": {
    "execution": {
     "iopub.execute_input": "2025-01-17T02:56:24.616403Z",
     "iopub.status.busy": "2025-01-17T02:56:24.616055Z",
     "iopub.status.idle": "2025-01-17T02:56:33.650075Z",
     "shell.execute_reply": "2025-01-17T02:56:33.649339Z"
    },
    "papermill": {
     "duration": 9.043016,
     "end_time": "2025-01-17T02:56:33.652186",
     "exception": false,
     "start_time": "2025-01-17T02:56:24.609170",
     "status": "completed"
    },
    "tags": []
   },
   "outputs": [],
   "source": [
    "from tqdm.auto import tqdm\n",
    "from bs4 import BeautifulSoup\n",
    "import gc\n",
    "import pandas as pd\n",
    "import pickle\n",
    "import sys\n",
    "import numpy as np\n",
    "from tqdm.autonotebook import trange\n",
    "from sklearn.model_selection import GroupKFold\n",
    "import json\n",
    "import matplotlib.pyplot as plt\n",
    "import seaborn as sns\n",
    "import torch\n",
    "from numpy.linalg import norm\n",
    "import torch.nn.functional as F\n",
    "from torch import Tensor\n",
    "from transformers import AutoTokenizer, AutoModel,BitsAndBytesConfig\n",
    "from peft import (\n",
    "    LoraConfig,\n",
    "    get_peft_model,\n",
    ")\n",
    "import json\n",
    "import copy\n",
    "import warnings\n",
    "import os\n",
    "warnings.filterwarnings('ignore')"
   ]
  },
  {
   "cell_type": "markdown",
   "id": "c997b5b6",
   "metadata": {
    "papermill": {
     "duration": 0.005653,
     "end_time": "2025-01-17T02:56:33.664127",
     "exception": false,
     "start_time": "2025-01-17T02:56:33.658474",
     "status": "completed"
    },
    "tags": []
   },
   "source": [
    "<a id=\"3.1\"></a>\n",
    "<h2 style=\"font-family: Verdana; font-size: 25px; font-style: normal; font-weight: normal; text-decoration: none; text-transform: none; letter-spacing: 2px; color: #0A800B;\"><b>Load dữ liệu </b></h2>"
   ]
  },
  {
   "cell_type": "code",
   "execution_count": 4,
   "id": "d009b0ab",
   "metadata": {
    "execution": {
     "iopub.execute_input": "2025-01-17T02:56:33.677477Z",
     "iopub.status.busy": "2025-01-17T02:56:33.676942Z",
     "iopub.status.idle": "2025-01-17T02:56:33.751076Z",
     "shell.execute_reply": "2025-01-17T02:56:33.750304Z"
    },
    "papermill": {
     "duration": 0.083018,
     "end_time": "2025-01-17T02:56:33.753109",
     "exception": false,
     "start_time": "2025-01-17T02:56:33.670091",
     "status": "completed"
    },
    "tags": []
   },
   "outputs": [],
   "source": [
    "train = pd.read_csv(\"/kaggle/input/eedi-mining-misconceptions-in-mathematics/train.csv\")\n",
    "test = pd.read_csv(\"/kaggle/input/eedi-mining-misconceptions-in-mathematics/test.csv\")\n",
    "sub = pd.read_csv(\"/kaggle/input/eedi-mining-misconceptions-in-mathematics/sample_submission.csv\")\n",
    "misconception_mapping  = pd.read_csv(\"/kaggle/input/eedi-mining-misconceptions-in-mathematics/misconception_mapping.csv\")"
   ]
  },
  {
   "cell_type": "code",
   "execution_count": 5,
   "id": "46d9ecb1",
   "metadata": {
    "execution": {
     "iopub.execute_input": "2025-01-17T02:56:33.767394Z",
     "iopub.status.busy": "2025-01-17T02:56:33.766713Z",
     "iopub.status.idle": "2025-01-17T02:56:33.790256Z",
     "shell.execute_reply": "2025-01-17T02:56:33.789362Z"
    },
    "papermill": {
     "duration": 0.032332,
     "end_time": "2025-01-17T02:56:33.792152",
     "exception": false,
     "start_time": "2025-01-17T02:56:33.759820",
     "status": "completed"
    },
    "tags": []
   },
   "outputs": [
    {
     "data": {
      "text/html": [
       "<div>\n",
       "<style scoped>\n",
       "    .dataframe tbody tr th:only-of-type {\n",
       "        vertical-align: middle;\n",
       "    }\n",
       "\n",
       "    .dataframe tbody tr th {\n",
       "        vertical-align: top;\n",
       "    }\n",
       "\n",
       "    .dataframe thead th {\n",
       "        text-align: right;\n",
       "    }\n",
       "</style>\n",
       "<table border=\"1\" class=\"dataframe\">\n",
       "  <thead>\n",
       "    <tr style=\"text-align: right;\">\n",
       "      <th></th>\n",
       "      <th>QuestionId</th>\n",
       "      <th>ConstructId</th>\n",
       "      <th>ConstructName</th>\n",
       "      <th>SubjectId</th>\n",
       "      <th>SubjectName</th>\n",
       "      <th>CorrectAnswer</th>\n",
       "      <th>QuestionText</th>\n",
       "      <th>AnswerAText</th>\n",
       "      <th>AnswerBText</th>\n",
       "      <th>AnswerCText</th>\n",
       "      <th>AnswerDText</th>\n",
       "      <th>MisconceptionAId</th>\n",
       "      <th>MisconceptionBId</th>\n",
       "      <th>MisconceptionCId</th>\n",
       "      <th>MisconceptionDId</th>\n",
       "    </tr>\n",
       "  </thead>\n",
       "  <tbody>\n",
       "    <tr>\n",
       "      <th>0</th>\n",
       "      <td>0</td>\n",
       "      <td>856</td>\n",
       "      <td>Use the order of operations to carry out calcu...</td>\n",
       "      <td>33</td>\n",
       "      <td>BIDMAS</td>\n",
       "      <td>A</td>\n",
       "      <td>\\[\\n3 \\times 2+4-5\\n\\]\\nWhere do the brackets ...</td>\n",
       "      <td>\\( 3 \\times(2+4)-5 \\)</td>\n",
       "      <td>\\( 3 \\times 2+(4-5) \\)</td>\n",
       "      <td>\\( 3 \\times(2+4-5) \\)</td>\n",
       "      <td>Does not need brackets</td>\n",
       "      <td>NaN</td>\n",
       "      <td>NaN</td>\n",
       "      <td>NaN</td>\n",
       "      <td>1672.0</td>\n",
       "    </tr>\n",
       "    <tr>\n",
       "      <th>1</th>\n",
       "      <td>1</td>\n",
       "      <td>1612</td>\n",
       "      <td>Simplify an algebraic fraction by factorising ...</td>\n",
       "      <td>1077</td>\n",
       "      <td>Simplifying Algebraic Fractions</td>\n",
       "      <td>D</td>\n",
       "      <td>Simplify the following, if possible: \\( \\frac{...</td>\n",
       "      <td>\\( m+1 \\)</td>\n",
       "      <td>\\( m+2 \\)</td>\n",
       "      <td>\\( m-1 \\)</td>\n",
       "      <td>Does not simplify</td>\n",
       "      <td>2142.0</td>\n",
       "      <td>143.0</td>\n",
       "      <td>2142.0</td>\n",
       "      <td>NaN</td>\n",
       "    </tr>\n",
       "    <tr>\n",
       "      <th>2</th>\n",
       "      <td>2</td>\n",
       "      <td>2774</td>\n",
       "      <td>Calculate the range from a list of data</td>\n",
       "      <td>339</td>\n",
       "      <td>Range and Interquartile Range from a List of Data</td>\n",
       "      <td>B</td>\n",
       "      <td>Tom and Katie are discussing the \\( 5 \\) plant...</td>\n",
       "      <td>Only\\nTom</td>\n",
       "      <td>Only\\nKatie</td>\n",
       "      <td>Both Tom and Katie</td>\n",
       "      <td>Neither is correct</td>\n",
       "      <td>1287.0</td>\n",
       "      <td>NaN</td>\n",
       "      <td>1287.0</td>\n",
       "      <td>1073.0</td>\n",
       "    </tr>\n",
       "    <tr>\n",
       "      <th>3</th>\n",
       "      <td>3</td>\n",
       "      <td>2377</td>\n",
       "      <td>Recall and use the intersecting diagonals prop...</td>\n",
       "      <td>88</td>\n",
       "      <td>Properties of Quadrilaterals</td>\n",
       "      <td>C</td>\n",
       "      <td>The angles highlighted on this rectangle with ...</td>\n",
       "      <td>acute</td>\n",
       "      <td>obtuse</td>\n",
       "      <td>\\( 90^{\\circ} \\)</td>\n",
       "      <td>Not enough information</td>\n",
       "      <td>1180.0</td>\n",
       "      <td>1180.0</td>\n",
       "      <td>NaN</td>\n",
       "      <td>1180.0</td>\n",
       "    </tr>\n",
       "    <tr>\n",
       "      <th>4</th>\n",
       "      <td>4</td>\n",
       "      <td>3387</td>\n",
       "      <td>Substitute positive integer values into formul...</td>\n",
       "      <td>67</td>\n",
       "      <td>Substitution into Formula</td>\n",
       "      <td>A</td>\n",
       "      <td>The equation \\( f=3 r^{2}+3 \\) is used to find...</td>\n",
       "      <td>\\( 30 \\)</td>\n",
       "      <td>\\( 27 \\)</td>\n",
       "      <td>\\( 51 \\)</td>\n",
       "      <td>\\( 24 \\)</td>\n",
       "      <td>NaN</td>\n",
       "      <td>NaN</td>\n",
       "      <td>NaN</td>\n",
       "      <td>1818.0</td>\n",
       "    </tr>\n",
       "  </tbody>\n",
       "</table>\n",
       "</div>"
      ],
      "text/plain": [
       "   QuestionId  ConstructId                                      ConstructName  \\\n",
       "0           0          856  Use the order of operations to carry out calcu...   \n",
       "1           1         1612  Simplify an algebraic fraction by factorising ...   \n",
       "2           2         2774            Calculate the range from a list of data   \n",
       "3           3         2377  Recall and use the intersecting diagonals prop...   \n",
       "4           4         3387  Substitute positive integer values into formul...   \n",
       "\n",
       "   SubjectId                                        SubjectName CorrectAnswer  \\\n",
       "0         33                                             BIDMAS             A   \n",
       "1       1077                    Simplifying Algebraic Fractions             D   \n",
       "2        339  Range and Interquartile Range from a List of Data             B   \n",
       "3         88                       Properties of Quadrilaterals             C   \n",
       "4         67                          Substitution into Formula             A   \n",
       "\n",
       "                                        QuestionText            AnswerAText  \\\n",
       "0  \\[\\n3 \\times 2+4-5\\n\\]\\nWhere do the brackets ...  \\( 3 \\times(2+4)-5 \\)   \n",
       "1  Simplify the following, if possible: \\( \\frac{...              \\( m+1 \\)   \n",
       "2  Tom and Katie are discussing the \\( 5 \\) plant...              Only\\nTom   \n",
       "3  The angles highlighted on this rectangle with ...                  acute   \n",
       "4  The equation \\( f=3 r^{2}+3 \\) is used to find...               \\( 30 \\)   \n",
       "\n",
       "              AnswerBText            AnswerCText             AnswerDText  \\\n",
       "0  \\( 3 \\times 2+(4-5) \\)  \\( 3 \\times(2+4-5) \\)  Does not need brackets   \n",
       "1               \\( m+2 \\)              \\( m-1 \\)       Does not simplify   \n",
       "2             Only\\nKatie     Both Tom and Katie      Neither is correct   \n",
       "3                  obtuse       \\( 90^{\\circ} \\)  Not enough information   \n",
       "4                \\( 27 \\)               \\( 51 \\)                \\( 24 \\)   \n",
       "\n",
       "   MisconceptionAId  MisconceptionBId  MisconceptionCId  MisconceptionDId  \n",
       "0               NaN               NaN               NaN            1672.0  \n",
       "1            2142.0             143.0            2142.0               NaN  \n",
       "2            1287.0               NaN            1287.0            1073.0  \n",
       "3            1180.0            1180.0               NaN            1180.0  \n",
       "4               NaN               NaN               NaN            1818.0  "
      ]
     },
     "execution_count": 5,
     "metadata": {},
     "output_type": "execute_result"
    }
   ],
   "source": [
    "train.head()"
   ]
  },
  {
   "cell_type": "markdown",
   "id": "9c5a4f1e",
   "metadata": {
    "papermill": {
     "duration": 0.006177,
     "end_time": "2025-01-17T02:56:33.826011",
     "exception": false,
     "start_time": "2025-01-17T02:56:33.819834",
     "status": "completed"
    },
    "tags": []
   },
   "source": [
    "<a id=\"3.1\"></a>\n",
    "<h2 style=\"font-family: Verdana; font-size: 25px; font-style: normal; font-weight: normal; text-decoration: none; text-transform: none; letter-spacing: 2px; color: #0A800B;\"><b>Khám phá dữ liệu</b></h2>"
   ]
  },
  {
   "cell_type": "code",
   "execution_count": 6,
   "id": "e45ff2bf",
   "metadata": {
    "execution": {
     "iopub.execute_input": "2025-01-17T02:56:33.806722Z",
     "iopub.status.busy": "2025-01-17T02:56:33.806015Z",
     "iopub.status.idle": "2025-01-17T02:56:33.811837Z",
     "shell.execute_reply": "2025-01-17T02:56:33.811114Z"
    },
    "papermill": {
     "duration": 0.014686,
     "end_time": "2025-01-17T02:56:33.813472",
     "exception": false,
     "start_time": "2025-01-17T02:56:33.798786",
     "status": "completed"
    },
    "tags": []
   },
   "outputs": [
    {
     "data": {
      "text/plain": [
       "Index(['QuestionId', 'ConstructId', 'ConstructName', 'SubjectId',\n",
       "       'SubjectName', 'CorrectAnswer', 'QuestionText', 'AnswerAText',\n",
       "       'AnswerBText', 'AnswerCText', 'AnswerDText', 'MisconceptionAId',\n",
       "       'MisconceptionBId', 'MisconceptionCId', 'MisconceptionDId'],\n",
       "      dtype='object')"
      ]
     },
     "execution_count": 6,
     "metadata": {},
     "output_type": "execute_result"
    }
   ],
   "source": [
    "train.columns"
   ]
  },
  {
   "cell_type": "markdown",
   "id": "d4d01514",
   "metadata": {},
   "source": [
    "Kiểu dữ liệu của mỗi cột"
   ]
  },
  {
   "cell_type": "code",
   "execution_count": null,
   "id": "0937e93c",
   "metadata": {},
   "outputs": [],
   "source": [
    "train.dtypes"
   ]
  },
  {
   "cell_type": "markdown",
   "id": "52a8a299",
   "metadata": {},
   "source": [
    "Kiểm tra giá trị thiếu trong tập train"
   ]
  },
  {
   "cell_type": "code",
   "execution_count": 7,
   "id": "d1619cd0",
   "metadata": {
    "execution": {
     "iopub.execute_input": "2025-01-17T02:56:33.839416Z",
     "iopub.status.busy": "2025-01-17T02:56:33.839112Z",
     "iopub.status.idle": "2025-01-17T02:56:33.850626Z",
     "shell.execute_reply": "2025-01-17T02:56:33.849888Z"
    },
    "papermill": {
     "duration": 0.02037,
     "end_time": "2025-01-17T02:56:33.852325",
     "exception": false,
     "start_time": "2025-01-17T02:56:33.831955",
     "status": "completed"
    },
    "tags": []
   },
   "outputs": [
    {
     "name": "stdout",
     "output_type": "stream",
     "text": [
      "Missing values per Misconception column:\n",
      "MisconceptionAId    734\n",
      "MisconceptionBId    751\n",
      "MisconceptionCId    789\n",
      "MisconceptionDId    832\n",
      "dtype: int64\n"
     ]
    }
   ],
   "source": [
    "missing_values = train[['MisconceptionAId', 'MisconceptionBId', 'MisconceptionCId', 'MisconceptionDId']].isnull().sum()\n",
    "\n",
    "print(\"Missing values per Misconception column:\")\n",
    "print(missing_values)"
   ]
  },
  {
   "cell_type": "markdown",
   "id": "69c3ca35",
   "metadata": {},
   "source": [
    "Điền giá trị thiếu bằng giá trị -1"
   ]
  },
  {
   "cell_type": "code",
   "execution_count": 8,
   "id": "26c43362",
   "metadata": {
    "execution": {
     "iopub.execute_input": "2025-01-17T02:56:33.866496Z",
     "iopub.status.busy": "2025-01-17T02:56:33.866168Z",
     "iopub.status.idle": "2025-01-17T02:56:33.876018Z",
     "shell.execute_reply": "2025-01-17T02:56:33.875016Z"
    },
    "papermill": {
     "duration": 0.018932,
     "end_time": "2025-01-17T02:56:33.877725",
     "exception": false,
     "start_time": "2025-01-17T02:56:33.858793",
     "status": "completed"
    },
    "tags": []
   },
   "outputs": [
    {
     "name": "stdout",
     "output_type": "stream",
     "text": [
      "Missing values after filling:\n",
      "MisconceptionAId    0\n",
      "MisconceptionBId    0\n",
      "MisconceptionCId    0\n",
      "MisconceptionDId    0\n",
      "dtype: int64\n"
     ]
    }
   ],
   "source": [
    "train[['MisconceptionAId', 'MisconceptionBId', 'MisconceptionCId', 'MisconceptionDId']] = train[['MisconceptionAId', 'MisconceptionBId', 'MisconceptionCId', 'MisconceptionDId']].fillna(-1)\n",
    "\n",
    "missing_values_after = train[['MisconceptionAId', 'MisconceptionBId', 'MisconceptionCId', 'MisconceptionDId']].isnull().sum()\n",
    "\n",
    "print(\"Missing values after filling:\")\n",
    "print(missing_values_after)"
   ]
  },
  {
   "cell_type": "markdown",
   "id": "d0478296",
   "metadata": {},
   "source": [
    "Kết hợp dữ liệu của 4 bốn cột Misconception, loại bỏ giá trị -1 và tính tổng số lượng"
   ]
  },
  {
   "cell_type": "code",
   "execution_count": 9,
   "id": "f0f616c0",
   "metadata": {
    "execution": {
     "iopub.execute_input": "2025-01-17T02:56:33.892387Z",
     "iopub.status.busy": "2025-01-17T02:56:33.891621Z",
     "iopub.status.idle": "2025-01-17T02:56:33.898385Z",
     "shell.execute_reply": "2025-01-17T02:56:33.897370Z"
    },
    "papermill": {
     "duration": 0.016066,
     "end_time": "2025-01-17T02:56:33.900186",
     "exception": false,
     "start_time": "2025-01-17T02:56:33.884120",
     "status": "completed"
    },
    "tags": []
   },
   "outputs": [
    {
     "name": "stdout",
     "output_type": "stream",
     "text": [
      "Total misconceptions (excluding -1): 4370\n"
     ]
    }
   ],
   "source": [
    "misconceptions = pd.concat([\n",
    "    train['MisconceptionAId'],\n",
    "    train['MisconceptionBId'],\n",
    "    train['MisconceptionCId'],\n",
    "    train['MisconceptionDId']\n",
    "], ignore_index=True)\n",
    "\n",
    "misconceptions = misconceptions[misconceptions != -1]\n",
    "print(f\"Total misconceptions (excluding -1): {len(misconceptions)}\")"
   ]
  },
  {
   "cell_type": "markdown",
   "id": "3b9c210f",
   "metadata": {},
   "source": [
    "Biểu đồ thể hiện top 20 hiểu lầm phổ biến nhất"
   ]
  },
  {
   "cell_type": "code",
   "execution_count": 10,
   "id": "2e4d6aad",
   "metadata": {
    "execution": {
     "iopub.execute_input": "2025-01-17T02:56:33.915289Z",
     "iopub.status.busy": "2025-01-17T02:56:33.914626Z",
     "iopub.status.idle": "2025-01-17T02:56:34.295169Z",
     "shell.execute_reply": "2025-01-17T02:56:34.294269Z"
    },
    "papermill": {
     "duration": 0.38993,
     "end_time": "2025-01-17T02:56:34.296984",
     "exception": false,
     "start_time": "2025-01-17T02:56:33.907054",
     "status": "completed"
    },
    "tags": []
   },
   "outputs": [
    {
     "data": {
      "image/png": "[encoded data removed]",
      "text/plain": [
       "<Figure size 1200x600 with 1 Axes>"
      ]
     },
     "metadata": {},
     "output_type": "display_data"
    }
   ],
   "source": [
    "misconception_counts = misconceptions.value_counts()\n",
    "top_20_misconceptions = misconception_counts.head(20).sort_values(ascending=False)\n",
    "plt.figure(figsize=(12, 6))\n",
    "sns.barplot(\n",
    "    x=top_20_misconceptions.index.astype(int),\n",
    "    y=top_20_misconceptions.values,\n",
    "    order=top_20_misconceptions.index  \n",
    ")\n",
    "plt.title('Top 20 Misconceptions')\n",
    "plt.xlabel('Misconception ID')\n",
    "plt.ylabel('Frequency')\n",
    "plt.xticks(rotation=90)\n",
    "plt.show()"
   ]
  },
  {
   "cell_type": "markdown",
   "id": "83c27efb",
   "metadata": {},
   "source": [
    "Tên các hiểu nhầm phổ biến"
   ]
  },
  {
   "cell_type": "code",
   "execution_count": 11,
   "id": "76901576",
   "metadata": {
    "execution": {
     "iopub.execute_input": "2025-01-17T02:56:34.312800Z",
     "iopub.status.busy": "2025-01-17T02:56:34.312473Z",
     "iopub.status.idle": "2025-01-17T02:56:34.330226Z",
     "shell.execute_reply": "2025-01-17T02:56:34.329094Z"
    },
    "papermill": {
     "duration": 0.027462,
     "end_time": "2025-01-17T02:56:34.331882",
     "exception": false,
     "start_time": "2025-01-17T02:56:34.304420",
     "status": "completed"
    },
    "tags": []
   },
   "outputs": [
    {
     "name": "stdout",
     "output_type": "stream",
     "text": [
      "   MisconceptionId  Count                                  MisconceptionName\n",
      "0           1214.0     54  When solving an equation, uses the same operat...\n",
      "1           1379.0     43                          Rounds down instead of up\n",
      "2           2316.0     38  Mixes up squaring and multiplying by 2 or doub...\n",
      "3           1507.0     36  Carries out operations from left to right rega...\n",
      "4           1990.0     33                Fails to reflect across mirror line\n",
      "5           1880.0     32        Mixes up greater than and less than symbols\n",
      "6           1597.0     27  Believes multiplying two negatives gives a neg...\n",
      "7           2392.0     27  Rounds to the wrong degree of accuracy (rounds...\n",
      "8           1248.0     22  Rounds to the wrong degree of accuracy (rounds...\n",
      "9             77.0     22  Does not follow the arrows through a function ...\n"
     ]
    }
   ],
   "source": [
    "misconception_counts_df = misconception_counts.reset_index()\n",
    "misconception_counts_df.columns = ['MisconceptionId', 'Count']\n",
    "misconception_counts_df = misconception_counts_df.merge(\n",
    "    misconception_mapping, on='MisconceptionId', how='left'\n",
    ")\n",
    "\n",
    "print(misconception_counts_df.head(10))"
   ]
  },
  {
   "cell_type": "markdown",
   "id": "5b5fa4a1",
   "metadata": {},
   "source": [
    "Biểu đồ biểu diễn phân phối độ dài của câu hỏi"
   ]
  },
  {
   "cell_type": "code",
   "execution_count": 12,
   "id": "ee5c4a56",
   "metadata": {
    "execution": {
     "iopub.execute_input": "2025-01-17T02:56:34.347455Z",
     "iopub.status.busy": "2025-01-17T02:56:34.347133Z",
     "iopub.status.idle": "2025-01-17T02:56:34.662461Z",
     "shell.execute_reply": "2025-01-17T02:56:34.661517Z"
    },
    "papermill": {
     "duration": 0.324936,
     "end_time": "2025-01-17T02:56:34.664186",
     "exception": false,
     "start_time": "2025-01-17T02:56:34.339250",
     "status": "completed"
    },
    "tags": []
   },
   "outputs": [
    {
     "data": {
      "image/png": "[encoded data removed]",
      "text/plain": [
       "<Figure size 1000x600 with 1 Axes>"
      ]
     },
     "metadata": {},
     "output_type": "display_data"
    }
   ],
   "source": [
    "train['QuestionLength'] = train['QuestionText'].apply(lambda x: len(str(x).split()))\n",
    "train['AnswerALength'] = train['AnswerAText'].apply(lambda x: len(str(x).split()))\n",
    "train['AnswerBLength'] = train['AnswerBText'].apply(lambda x: len(str(x).split()))\n",
    "train['AnswerCLength'] = train['AnswerCText'].apply(lambda x: len(str(x).split()))\n",
    "train['AnswerDLength'] = train['AnswerDText'].apply(lambda x: len(str(x).split()))\n",
    "\n",
    "plt.figure(figsize=(10,6))\n",
    "sns.histplot(train['QuestionLength'], bins=30)\n",
    "plt.title('Distribution of Question Lengths')\n",
    "plt.xlabel('Number of Words')\n",
    "plt.ylabel('Frequency')\n",
    "plt.show()"
   ]
  },
  {
   "cell_type": "markdown",
   "id": "e52e685c",
   "metadata": {},
   "source": [
    "Biểu đồ biểu diễn phân phối độ dài của các câu trả lời"
   ]
  },
  {
   "cell_type": "code",
   "execution_count": 13,
   "id": "a30f8273",
   "metadata": {
    "execution": {
     "iopub.execute_input": "2025-01-17T02:56:34.680369Z",
     "iopub.status.busy": "2025-01-17T02:56:34.679995Z",
     "iopub.status.idle": "2025-01-17T02:56:35.920712Z",
     "shell.execute_reply": "2025-01-17T02:56:35.919779Z"
    },
    "papermill": {
     "duration": 1.250975,
     "end_time": "2025-01-17T02:56:35.922581",
     "exception": false,
     "start_time": "2025-01-17T02:56:34.671606",
     "status": "completed"
    },
    "tags": []
   },
   "outputs": [
    {
     "data": {
      "image/png": "[encoded data removed]",
      "text/plain": [
       "<Figure size 1000x600 with 1 Axes>"
      ]
     },
     "metadata": {},
     "output_type": "display_data"
    },
    {
     "data": {
      "image/png": "[encoded data removed]",
      "text/plain": [
       "<Figure size 1000x600 with 1 Axes>"
      ]
     },
     "metadata": {},
     "output_type": "display_data"
    },
    {
     "data": {
      "image/png": "[encoded data removed]",
      "text/plain": [
       "<Figure size 1000x600 with 1 Axes>"
      ]
     },
     "metadata": {},
     "output_type": "display_data"
    },
    {
     "data": {
      "image/png": "[encoded data removed]",
      "text/plain": [
       "<Figure size 1000x600 with 1 Axes>"
      ]
     },
     "metadata": {},
     "output_type": "display_data"
    }
   ],
   "source": [
    "answer_lengths = ['AnswerALength', 'AnswerBLength', 'AnswerCLength', 'AnswerDLength']\n",
    "for col in answer_lengths:\n",
    "    plt.figure(figsize=(10,6))\n",
    "    sns.histplot(data=train, x=col, bins=30)\n",
    "    plt.title(f'Distribution of {col}')\n",
    "    plt.xlabel('Number of Words')\n",
    "    plt.ylabel('Frequency')\n",
    "    plt.show()"
   ]
  },
  {
   "cell_type": "code",
   "execution_count": 14,
   "id": "557bb95c",
   "metadata": {
    "execution": {
     "iopub.execute_input": "2025-01-17T02:56:35.943521Z",
     "iopub.status.busy": "2025-01-17T02:56:35.943218Z",
     "iopub.status.idle": "2025-01-17T02:56:35.950943Z",
     "shell.execute_reply": "2025-01-17T02:56:35.950131Z"
    },
    "papermill": {
     "duration": 0.020474,
     "end_time": "2025-01-17T02:56:35.953596",
     "exception": false,
     "start_time": "2025-01-17T02:56:35.933122",
     "status": "completed"
    },
    "tags": []
   },
   "outputs": [
    {
     "name": "stdout",
     "output_type": "stream",
     "text": [
      "Missing values in 'QuestionText': 0\n",
      "Missing values in 'AnswerAText': 0\n",
      "Missing values in 'AnswerBText': 0\n",
      "Missing values in 'AnswerCText': 0\n",
      "Missing values in 'AnswerDText': 0\n"
     ]
    }
   ],
   "source": [
    "print(\"Missing values in 'QuestionText':\", train['QuestionText'].isnull().sum())\n",
    "print(\"Missing values in 'AnswerAText':\", train['AnswerAText'].isnull().sum())\n",
    "print(\"Missing values in 'AnswerBText':\", train['AnswerBText'].isnull().sum())\n",
    "print(\"Missing values in 'AnswerCText':\", train['AnswerCText'].isnull().sum())\n",
    "print(\"Missing values in 'AnswerDText':\", train['AnswerDText'].isnull().sum())"
   ]
  },
  {
   "cell_type": "markdown",
   "id": "e025df0b",
   "metadata": {
    "papermill": {
     "duration": 0.009197,
     "end_time": "2025-01-17T02:56:35.978785",
     "exception": false,
     "start_time": "2025-01-17T02:56:35.969588",
     "status": "completed"
    },
    "tags": []
   },
   "source": [
    "<a id=\"3.1\"></a>\n",
    "<h2 style=\"font-family: Verdana; font-size: 25px; font-style: normal; font-weight: normal; text-decoration: none; text-transform: none; letter-spacing: 2px; color: #0A800B;\"><b>Chuẩn bị dữ liệu </b></h2>"
   ]
  },
  {
   "cell_type": "markdown",
   "id": "04dffcc9",
   "metadata": {},
   "source": [
    "Load tệp trọng số (adapter.bin) của mô hình LoRA (Low-Rank Adaptation of Large Language Models) đã được huấn luyện và mô hình qwen2.5."
   ]
  },
  {
   "cell_type": "code",
   "execution_count": 15,
   "id": "eb030dff",
   "metadata": {
    "execution": {
     "iopub.execute_input": "2025-01-17T02:56:35.998543Z",
     "iopub.status.busy": "2025-01-17T02:56:35.998200Z",
     "iopub.status.idle": "2025-01-17T02:56:36.002881Z",
     "shell.execute_reply": "2025-01-17T02:56:36.002092Z"
    },
    "papermill": {
     "duration": 0.016213,
     "end_time": "2025-01-17T02:56:36.004567",
     "exception": false,
     "start_time": "2025-01-17T02:56:35.988354",
     "status": "completed"
    },
    "tags": []
   },
   "outputs": [],
   "source": [
    "path_prefix = \"/kaggle/input/eedi-mining-misconceptions-in-mathematics\"\n",
    "model_path = \"/kaggle/input/qwen2.5-14/pytorch/default/1\"\n",
    "lora_path='/kaggle/input/qwen14b-it-lora/lora_weights/adapter.bin'\n",
    "device='cuda:0'\n",
    "VALID = False"
   ]
  },
  {
   "cell_type": "markdown",
   "id": "fc8d324e",
   "metadata": {},
   "source": [
    "Các hàm cần thiết cho mô hình"
   ]
  },
  {
   "cell_type": "code",
   "execution_count": 16,
   "id": "aee97078",
   "metadata": {
    "execution": {
     "iopub.execute_input": "2025-01-17T02:56:36.025243Z",
     "iopub.status.busy": "2025-01-17T02:56:36.024893Z",
     "iopub.status.idle": "2025-01-17T02:56:36.038716Z",
     "shell.execute_reply": "2025-01-17T02:56:36.037800Z"
    },
    "papermill": {
     "duration": 0.027057,
     "end_time": "2025-01-17T02:56:36.040866",
     "exception": false,
     "start_time": "2025-01-17T02:56:36.013809",
     "status": "completed"
    },
    "tags": []
   },
   "outputs": [],
   "source": [
    "def apk(actual, predicted, k=25):\n",
    "    \"\"\"\n",
    "    Tính Average Precision at K (AP@K) giữa hai danh sách:\n",
    "        actual: Danh sách phần tử đúng (đáp án thực sự).\n",
    "        predicted: Danh sách phần tử dự đoán.\n",
    "    Tham số:\n",
    "        actual: Danh sách chứa các phần tử đúng (không cần thứ tự).\n",
    "        predicted: Danh sách phần tử được dự đoán (thứ tự quan trọng).\n",
    "        k: Số lượng phần tử tối đa trong danh sách dự đoán cần xem xét.\n",
    "    \"\"\"\n",
    "    \n",
    "    if not actual:\n",
    "        return 0.0\n",
    "\n",
    "    if len(predicted)>k:\n",
    "        predicted = predicted[:k]\n",
    "\n",
    "    score = 0.0\n",
    "    num_hits = 0.0\n",
    "\n",
    "    for i,p in enumerate(predicted):\n",
    "        # kiểm tra xem nó có phải là dự đoán hợp lệ\n",
    "        # kiểm tra xem dự đoán có được lặp lại không\n",
    "        if p in actual and p not in predicted[:i]:\n",
    "            num_hits += 1.0\n",
    "            score += num_hits / (i+1.0)\n",
    "\n",
    "    return score / min(len(actual), k)\n",
    "\n",
    "def mapk(actual, predicted, k=25):\n",
    "    \"\"\"\n",
    "    Tính Mean Average Precision at K (MAP@K) trên nhiều danh sách:\n",
    "        actual: Danh sách các danh sách phần tử đúng.\n",
    "        predicted: Danh sách các danh sách phần tử dự đoán.\n",
    "    Tham số:\n",
    "        actual: Danh sách các danh sách đáp án đúng.\n",
    "        predicted: Danh sách các danh sách dự đoán.\n",
    "        k: Số lượng phần tử tối đa cần xem xét.\n",
    "    \"\"\"\n",
    "    # Tính trung bình của tất cả các giá trị AP@K để trả về\n",
    "    return np.mean([apk(a,p,k) for a,p in zip(actual, predicted)])\n",
    "\n",
    "def batch_to_device(batch, target_device):\n",
    "    \"\"\"\n",
    "    Di chuyển một batch dữ liệu PyTorch tới thiết bị cụ thể (CPU/GPU).\n",
    "    \"\"\"\n",
    "    for key in batch:\n",
    "        if isinstance(batch[key], Tensor):\n",
    "            batch[key] = batch[key].to(target_device)\n",
    "    return batch\n",
    "\n",
    "def last_token_pool(last_hidden_states: Tensor,\n",
    "                    attention_mask: Tensor) -> Tensor:\n",
    "    \"\"\"\n",
    "        Trích xuất vector biểu diễn cuối cùng từ trạng thái ẩn của mô hình Transformer.\n",
    "        Trả về tensor biểu diễn vector của token cuối cùng.\n",
    "    \"\"\"\n",
    "    left_padding = (attention_mask[:, -1].sum() == attention_mask.shape[0])\n",
    "    if left_padding:\n",
    "        return last_hidden_states[:, -1]\n",
    "    else:\n",
    "        sequence_lengths = attention_mask.sum(dim=1) - 1\n",
    "        batch_size = last_hidden_states.shape[0]\n",
    "        return last_hidden_states[torch.arange(batch_size, device=last_hidden_states.device), sequence_lengths]\n",
    "\n",
    "def get_detailed_instruct(task_description: str, query: str) -> str:\n",
    "    \"\"\"\n",
    "        Tạo chuỗi hướng dẫn chi tiết từ một nhiệm vụ và truy vấn.\n",
    "    \"\"\"\n",
    "    return f'Instruct: {task_description}\\nQuery: {query}'\n",
    "\n",
    "def inference(df, model, tokenizer, device):\n",
    "    \"\"\"\n",
    "        Thực hiện suy luận trên dữ liệu và trả về vector nhúng cho từng truy vấn.\n",
    "        Trả về một dictionary với pids làm key và embedding làm giá trị.\n",
    "    \"\"\"\n",
    "    batch_size = 16\n",
    "    max_length = 512\n",
    "    sentences = list(df['query_text'].values) # danh sách câu truy vấn \n",
    "    pids = list(df['order_index'].values)\n",
    "    all_embeddings = []\n",
    "    length_sorted_idx = np.argsort([-len(sen) for sen in sentences])\n",
    "    sentences_sorted = [sentences[idx] for idx in length_sorted_idx]\n",
    "    for start_index in trange(0, len(sentences), batch_size, desc=\"Batches\", disable=False):\n",
    "        sentences_batch = sentences_sorted[start_index: start_index + batch_size]\n",
    "        features = tokenizer(sentences_batch, max_length=max_length, padding=True, truncation=True,\n",
    "                             return_tensors=\"pt\")\n",
    "        features = batch_to_device(features, device)\n",
    "        with torch.no_grad():\n",
    "            outputs = model(**features)\n",
    "            embeddings = last_token_pool(outputs.last_hidden_state, features['attention_mask'])\n",
    "            embeddings = torch.nn.functional.normalize(embeddings, dim=-1)\n",
    "            embeddings = embeddings.detach().cpu().numpy().tolist()\n",
    "        all_embeddings.extend(embeddings)\n",
    "\n",
    "    all_embeddings = [np.array(all_embeddings[idx]).reshape(1, -1) for idx in np.argsort(length_sorted_idx)]\n",
    "\n",
    "    sentence_embeddings = np.concatenate(all_embeddings, axis=0)\n",
    "    result = {pids[i]: em for i, em in enumerate(sentence_embeddings)}\n",
    "    return result"
   ]
  },
  {
   "cell_type": "markdown",
   "id": "ad924aaf",
   "metadata": {},
   "source": [
    "Mô tả nhiệm vụ để sử dụng làm prompt cho các bước xử lý tiếp theo"
   ]
  },
  {
   "cell_type": "code",
   "execution_count": 17,
   "id": "8fe52616",
   "metadata": {
    "execution": {
     "iopub.execute_input": "2025-01-17T02:56:36.066622Z",
     "iopub.status.busy": "2025-01-17T02:56:36.065754Z",
     "iopub.status.idle": "2025-01-17T02:56:36.070459Z",
     "shell.execute_reply": "2025-01-17T02:56:36.069608Z"
    },
    "papermill": {
     "duration": 0.016971,
     "end_time": "2025-01-17T02:56:36.072583",
     "exception": false,
     "start_time": "2025-01-17T02:56:36.055612",
     "status": "completed"
    },
    "tags": []
   },
   "outputs": [],
   "source": [
    "task_description = 'Given a math question with correct answer and a misconcepted incorrect answer, retrieve the most accurate misconception for the incorrect answer.'"
   ]
  },
  {
   "cell_type": "code",
   "execution_count": 18,
   "id": "833c2797",
   "metadata": {
    "execution": {
     "iopub.execute_input": "2025-01-17T02:56:36.100843Z",
     "iopub.status.busy": "2025-01-17T02:56:36.100504Z",
     "iopub.status.idle": "2025-01-17T02:56:36.121797Z",
     "shell.execute_reply": "2025-01-17T02:56:36.120797Z"
    },
    "papermill": {
     "duration": 0.033569,
     "end_time": "2025-01-17T02:56:36.123620",
     "exception": false,
     "start_time": "2025-01-17T02:56:36.090051",
     "status": "completed"
    },
    "tags": []
   },
   "outputs": [
    {
     "name": "stdout",
     "output_type": "stream",
     "text": [
      "(3, 11)\n"
     ]
    }
   ],
   "source": [
    "if VALID:\n",
    "    tra = pd.read_parquet(\"/kaggle/input/val-parquet/v1_val.parquet\")\n",
    "    print(tra.shape)\n",
    "else:\n",
    "    tra = pd.read_csv(f\"{path_prefix}/test.csv\")\n",
    "    print(tra.shape)\n",
    "misconception_mapping = pd.read_csv(f\"{path_prefix}/misconception_mapping.csv\")\n",
    "if tra.shape[0]<10:\n",
    "    misconception_mapping = misconception_mapping.sample(n=5,random_state=2023)"
   ]
  },
  {
   "cell_type": "markdown",
   "id": "7891ec25",
   "metadata": {
    "papermill": {
     "duration": 0.009256,
     "end_time": "2025-01-17T02:56:36.142112",
     "exception": false,
     "start_time": "2025-01-17T02:56:36.132856",
     "status": "completed"
    },
    "tags": []
   },
   "source": [
    "Tạo dữ liệu huấn luyện thông tin chi tiết (câu hỏi, đáp án đúng, đáp án sai, ánh xạ hiểu lầm)"
   ]
  },
  {
   "cell_type": "code",
   "execution_count": 19,
   "id": "fe389b53",
   "metadata": {
    "execution": {
     "iopub.execute_input": "2025-01-17T02:56:36.163302Z",
     "iopub.status.busy": "2025-01-17T02:56:36.162521Z",
     "iopub.status.idle": "2025-01-17T02:56:36.182940Z",
     "shell.execute_reply": "2025-01-17T02:56:36.182088Z"
    },
    "papermill": {
     "duration": 0.032734,
     "end_time": "2025-01-17T02:56:36.184778",
     "exception": false,
     "start_time": "2025-01-17T02:56:36.152044",
     "status": "completed"
    },
    "tags": []
   },
   "outputs": [
    {
     "data": {
      "text/plain": [
       "(9, 14)"
      ]
     },
     "execution_count": 19,
     "metadata": {},
     "output_type": "execute_result"
    }
   ],
   "source": [
    "if VALID:\n",
    "    train_data = []\n",
    "    for _,row in tra.iterrows():\n",
    "        for c in ['A','B','C','D']:\n",
    "            if str(row[f\"Misconception{c}Id\"])!=\"nan\":\n",
    "                real_answer_id = row['CorrectAnswer']\n",
    "                real_text = row[f'Answer{real_answer_id}Text']\n",
    "                query_text = f\"### SubjectName: {row['SubjectName']}\\n### ConstructName: {row['ConstructName']}\\n### Question: {row['QuestionText']}\\n### Correct Answer: {real_text}\\n### Misconcepte Incorrect answer: {row[f'Answer{c}Text']}\"\n",
    "                row['query_text'] = get_detailed_instruct(task_description,query_text)\n",
    "                row['answer_id'] = int(row[f\"Misconception{c}Id\"])\n",
    "                train_data.append(copy.deepcopy(row))\n",
    "    train_df = pd.DataFrame(train_data)\n",
    "    train_df['order_index'] = list(range(len(train_df)))\n",
    "else:\n",
    "    train_data = []\n",
    "    for _,row in tra.iterrows():\n",
    "        for c in ['A','B','C','D']:\n",
    "            if c == row['CorrectAnswer']:\n",
    "                continue\n",
    "            if f'Answer{c}Text' not in row:\n",
    "                continue\n",
    "            real_answer_id = row['CorrectAnswer']\n",
    "            real_text = row[f'Answer{real_answer_id}Text']\n",
    "            # Tạo câu truy vấn\n",
    "            query_text = f\"### SubjectName: {row['SubjectName']}\\n### ConstructName: {row['ConstructName']}\\n### Question: {row['QuestionText']}\\n### Correct Answer: {real_text}\\n### Misconcepte Incorrect answer: {row[f'Answer{c}Text']}\"\n",
    "            row['query_text'] = get_detailed_instruct(task_description,query_text)\n",
    "            row['answer_name'] = c\n",
    "\n",
    "            # misconception_id = misconception_mapping[misconception_mapping['MisconceptionName'] == row[f'Answer{c}Text']]['MisconceptionId'].values\n",
    "            # if len(misconception_id) > 0:\n",
    "            #     row['CorrectMisconceptionIds'] = misconception_id[0]  \n",
    "            # else:\n",
    "            #     row['CorrectMisconceptionIds'] = None  \n",
    "\n",
    "            train_data.append(copy.deepcopy(row))\n",
    "    train_df = pd.DataFrame(train_data)\n",
    "    train_df['order_index'] = list(range(len(train_df)))\n",
    "train_df.shape"
   ]
  },
  {
   "cell_type": "markdown",
   "id": "609319d4",
   "metadata": {},
   "source": [
    "<a id=\"3.1\"></a>\n",
    "<h2 style=\"font-family: Verdana; font-size: 25px; font-style: normal; font-weight: normal; text-decoration: none; text-transform: none; letter-spacing: 2px; color: #0A800B;\"><b>Mô hình </b></h2>"
   ]
  },
  {
   "cell_type": "markdown",
   "id": "7fc8b298",
   "metadata": {
    "papermill": {
     "duration": 0.009894,
     "end_time": "2025-01-17T02:56:36.203745",
     "exception": false,
     "start_time": "2025-01-17T02:56:36.193851",
     "status": "completed"
    },
    "tags": []
   },
   "source": [
    "Link model: https://www.kaggle.com/models/trainld/qwen2.5-14/PyTorch/default  \n",
    "Tài liệu trên giới thiệu về Qwen2.5-14B-Instruct, một mô hình ngôn ngữ lớn (LLM) được phát triển bởi Alibaba Cloud, với các đặc điểm nổi bật và hướng dẫn triển khai cơ bản. Dưới đây là phần giải thích chi tiết:\n",
    "\n",
    "Qwen2.5 là phiên bản nâng cấp của dòng mô hình Qwen, với các cải tiến vượt trội so với Qwen2:\n",
    "-   Tăng cường kiến thức và khả năng: Đặc biệt mạnh về lập trình, toán học, và dữ liệu có cấu trúc (như bảng, JSON).\n",
    "-   Hỗ trợ ngữ cảnh dài: Lên đến 131.072 tokens, với khả năng sinh văn bản mới tối đa 8.192 tokens.\n",
    "-   Đa ngôn ngữ: Hỗ trợ hơn 29 ngôn ngữ như tiếng Trung, Anh, Pháp, Đức, Nhật, Việt, Thái, Ả Rập, v.v.\n",
    "-   Cải thiện khả năng thực hiện theo hướng dẫn: Sinh các văn bản dài, bền bỉ hơn với nhiều loại prompt khác nhau, đặc biệt hiệu quả trong thiết lập chatbot.\n",
    "\n",
    "Thông tin kỹ thuật\n",
    "-   Loại: Mô hình ngôn ngữ nhân quả (Causal Language Model).\n",
    "-   Số lượng tham số: Tổng 14.7 tỷ (13.1 tỷ tham số không liên quan đến nhúng).\n",
    "-   Kiến trúc: Sử dụng RoPE, SwiGLU, RMSNorm, và Attention QKV bias.\n",
    "-   Ngữ cảnh tối đa: 131.072 tokens.\n",
    "-   Hỗ trợ xử lý văn bản dài: Có thể mở rộng ngữ cảnh lên đến 32.768 tokens bằng kỹ thuật YaRN (Y-Axis Rope Scaling).\n"
   ]
  },
  {
   "cell_type": "markdown",
   "id": "2a4a6f4f",
   "metadata": {},
   "source": [
    "#### Fine-tuning với LoRA (Low-Rank Adaptation of Large Language Models)\n",
    "LoRA là một kỹ thuật fine-tuning hiệu quả, được thiết kế để tối ưu hóa các mô hình ngôn ngữ lớn (LLMs) bằng cách thêm các trọng số hạng thấp vào kiến trúc hiện có, thay vì cập nhật toàn bộ trọng số của mô hình.\n",
    "\n",
    "Nguyên lý hoạt động của LoRA:\n",
    "-   Freeze model weights: Trọng số của mô hình gốc không bị cập nhật, giúp giảm chi phí tính toán và bộ nhớ.\n",
    "-   Low-rank matrices: Thêm các ma trận hạng thấp vào các thành phần quan trọng như  `q_proj`, `k_proj`, `v_proj`, `o_proj`.\n",
    "-   Công thức: $ W_{\\text{new}} = W + \\Delta W ,\\quad \\text{với} \\quad \\Delta W = A \\cdot B $\n",
    "\n",
    "-   Fast adaptation: LoRA chỉ huấn luyện các trọng số thêm này, cho phép mô hình thích nghi với nhiệm vụ mới mà không cần thay đổi toàn bộ trọng số ban đầu."
   ]
  },
  {
   "cell_type": "code",
   "execution_count": 20,
   "id": "70a65c1f",
   "metadata": {
    "execution": {
     "iopub.execute_input": "2025-01-17T02:56:36.240527Z",
     "iopub.status.busy": "2025-01-17T02:56:36.240030Z",
     "iopub.status.idle": "2025-01-17T03:00:41.351001Z",
     "shell.execute_reply": "2025-01-17T03:00:41.349854Z"
    },
    "papermill": {
     "duration": 245.123137,
     "end_time": "2025-01-17T03:00:41.353426",
     "exception": false,
     "start_time": "2025-01-17T02:56:36.230289",
     "status": "completed"
    },
    "tags": []
   },
   "outputs": [
    {
     "data": {
      "application/vnd.jupyter.widget-view+json": {
       "model_id": "ce62ccc182a14125a1fefc3ddad8d6eb",
       "version_major": 2,
       "version_minor": 0
      },
      "text/plain": [
       "Loading checkpoint shards:   0%|          | 0/8 [00:00<?, ?it/s]"
      ]
     },
     "metadata": {},
     "output_type": "display_data"
    },
    {
     "name": "stdout",
     "output_type": "stream",
     "text": [
      "loading lora\n"
     ]
    }
   ],
   "source": [
    "# Khởi tạo AutoTokenizer\n",
    "tokenizer = AutoTokenizer.from_pretrained(lora_path.replace(\"/adapter.bin\",\"\"))\n",
    "\n",
    "bnb_config = BitsAndBytesConfig(\n",
    "            load_in_4bit=True,\n",
    "            bnb_4bit_use_double_quant=True,\n",
    "            bnb_4bit_quant_type=\"nf4\",\n",
    "            bnb_4bit_compute_dtype=torch.bfloat16\n",
    "        )\n",
    "# Tải mô hình \n",
    "model = AutoModel.from_pretrained(model_path, \n",
    "                                  quantization_config=bnb_config, \n",
    "                                  device_map=device,\n",
    "                                  trust_remote_code=True)\n",
    "\n",
    "# Tạo cấu hình LoRA\n",
    "if lora_path:\n",
    "    print(\"loading lora\")\n",
    "    config = LoraConfig(\n",
    "        r=64,\n",
    "        lora_alpha=128,\n",
    "        target_modules=[\n",
    "            \"q_proj\",\n",
    "            \"k_proj\",\n",
    "            \"v_proj\",\n",
    "            \"o_proj\",\n",
    "            \"gate_proj\",\n",
    "            \"up_proj\",\n",
    "            \"down_proj\",\n",
    "        ],\n",
    "        bias=\"none\",\n",
    "        lora_dropout=0.05,  # Conventional\n",
    "        task_type=\"FEATURE_EXTRACTION\",\n",
    "    )\n",
    "    model = get_peft_model(model, config) \n",
    "    d = torch.load(lora_path, map_location=model.device) # Tải trọng số LoRA\n",
    "    model.load_state_dict(d, strict=False)\n",
    "    model = model.merge_and_unload()\n",
    "    \n",
    "# Chuyển mô hình về chế độ suy luận\n",
    "model = model.eval()\n"
   ]
  },
  {
   "cell_type": "markdown",
   "id": "7315e9e5",
   "metadata": {},
   "source": [
    "Tạo embeddings cho tập train"
   ]
  },
  {
   "cell_type": "code",
   "execution_count": 21,
   "id": "b7e3e4ae",
   "metadata": {
    "execution": {
     "iopub.execute_input": "2025-01-17T03:00:41.373194Z",
     "iopub.status.busy": "2025-01-17T03:00:41.372841Z",
     "iopub.status.idle": "2025-01-17T03:00:59.298786Z",
     "shell.execute_reply": "2025-01-17T03:00:59.298022Z"
    },
    "papermill": {
     "duration": 17.937553,
     "end_time": "2025-01-17T03:00:59.300390",
     "exception": false,
     "start_time": "2025-01-17T03:00:41.362837",
     "status": "completed"
    },
    "tags": []
   },
   "outputs": [
    {
     "data": {
      "application/vnd.jupyter.widget-view+json": {
       "model_id": "05560b96463a41d882c5368cbee3342b",
       "version_major": 2,
       "version_minor": 0
      },
      "text/plain": [
       "Batches:   0%|          | 0/1 [00:00<?, ?it/s]"
      ]
     },
     "metadata": {},
     "output_type": "display_data"
    }
   ],
   "source": [
    "train_embeddings = inference(train_df, model, tokenizer, device)"
   ]
  },
  {
   "cell_type": "markdown",
   "id": "0447984a",
   "metadata": {
    "papermill": {
     "duration": 0.008832,
     "end_time": "2025-01-17T03:00:59.318537",
     "exception": false,
     "start_time": "2025-01-17T03:00:59.309705",
     "status": "completed"
    },
    "tags": []
   },
   "source": [
    "Tạo embeddings cho các hiểu nhầm"
   ]
  },
  {
   "cell_type": "code",
   "execution_count": 22,
   "id": "bb32cf91",
   "metadata": {
    "execution": {
     "iopub.execute_input": "2025-01-17T03:00:59.338233Z",
     "iopub.status.busy": "2025-01-17T03:00:59.337373Z",
     "iopub.status.idle": "2025-01-17T03:01:00.535389Z",
     "shell.execute_reply": "2025-01-17T03:01:00.534414Z"
    },
    "papermill": {
     "duration": 1.209933,
     "end_time": "2025-01-17T03:01:00.537265",
     "exception": false,
     "start_time": "2025-01-17T03:00:59.327332",
     "status": "completed"
    },
    "tags": []
   },
   "outputs": [
    {
     "data": {
      "application/vnd.jupyter.widget-view+json": {
       "model_id": "e9e0fd488fe94c159bc30c137b11c045",
       "version_major": 2,
       "version_minor": 0
      },
      "text/plain": [
       "Batches:   0%|          | 0/1 [00:00<?, ?it/s]"
      ]
     },
     "metadata": {},
     "output_type": "display_data"
    }
   ],
   "source": [
    "misconception_mapping['query_text'] = misconception_mapping['MisconceptionName']\n",
    "misconception_mapping['order_index'] = misconception_mapping['MisconceptionId']\n",
    "doc_embeddings = inference(misconception_mapping, model, tokenizer, device)"
   ]
  },
  {
   "cell_type": "code",
   "execution_count": 23,
   "id": "617065ec",
   "metadata": {
    "execution": {
     "iopub.execute_input": "2025-01-17T03:01:00.557939Z",
     "iopub.status.busy": "2025-01-17T03:01:00.557641Z",
     "iopub.status.idle": "2025-01-17T03:01:00.562348Z",
     "shell.execute_reply": "2025-01-17T03:01:00.561638Z"
    },
    "papermill": {
     "duration": 0.017005,
     "end_time": "2025-01-17T03:01:00.563936",
     "exception": false,
     "start_time": "2025-01-17T03:01:00.546931",
     "status": "completed"
    },
    "tags": []
   },
   "outputs": [],
   "source": [
    "sentence_embeddings = np.concatenate([e.reshape(1, -1) for e in list(doc_embeddings.values())])\n",
    "index_text_embeddings_index = {index: paper_id for index, paper_id in\n",
    "                                         enumerate(list(doc_embeddings.keys()))}"
   ]
  },
  {
   "cell_type": "markdown",
   "id": "8636bcbe",
   "metadata": {
    "papermill": {
     "duration": 0.009222,
     "end_time": "2025-01-17T03:01:00.582578",
     "exception": false,
     "start_time": "2025-01-17T03:01:00.573356",
     "status": "completed"
    },
    "tags": []
   },
   "source": [
    "Tính toán độ tương đồng cosine giữa câu hỏi và các hiểu nhầm"
   ]
  },
  {
   "cell_type": "code",
   "execution_count": 24,
   "id": "756483a3",
   "metadata": {
    "execution": {
     "iopub.execute_input": "2025-01-17T03:01:00.602199Z",
     "iopub.status.busy": "2025-01-17T03:01:00.601864Z",
     "iopub.status.idle": "2025-01-17T03:01:00.621882Z",
     "shell.execute_reply": "2025-01-17T03:01:00.621000Z"
    },
    "papermill": {
     "duration": 0.041182,
     "end_time": "2025-01-17T03:01:00.632891",
     "exception": false,
     "start_time": "2025-01-17T03:01:00.591709",
     "status": "completed"
    },
    "tags": []
   },
   "outputs": [
    {
     "data": {
      "application/vnd.jupyter.widget-view+json": {
       "model_id": "2e8ce4f1a81e456da43c17b3fe250f5f",
       "version_major": 2,
       "version_minor": 0
      },
      "text/plain": [
       "0it [00:00, ?it/s]"
      ]
     },
     "metadata": {},
     "output_type": "display_data"
    }
   ],
   "source": [
    "predicts_test = []\n",
    "for _, row in tqdm(train_df.iterrows()):\n",
    "    query_id = row['order_index']\n",
    "    query_em = train_embeddings[query_id].reshape(1, -1)\n",
    "    # Tính toán cosine similarity giữa query và các câu trả lời trong phần Misconception\n",
    "    cosine_similarity = np.dot(query_em, sentence_embeddings.T).flatten()\n",
    "    # Sắp xếp các giá trị cosine similarity để chọn ra các dự đoán top-k\n",
    "    sort_index = np.argsort(-cosine_similarity)[:25]\n",
    "    pids = [index_text_embeddings_index[index] for index in sort_index]\n",
    "    predicts_test.append(pids)"
   ]
  },
  {
   "cell_type": "code",
   "execution_count": null,
   "id": "2f1583f1",
   "metadata": {},
   "outputs": [],
   "source": [
    "# actual = [row['CorrectMisconceptionIds'] for _, row in train_df.iterrows()]\n",
    "# map_score = mapk(actual, predicts_test, k=25)\n",
    "# print(f\"MAP@25 Score: {map_score}\")"
   ]
  },
  {
   "cell_type": "markdown",
   "id": "53602f6a",
   "metadata": {
    "papermill": {
     "duration": 0.0092,
     "end_time": "2025-01-17T03:01:00.653804",
     "exception": false,
     "start_time": "2025-01-17T03:01:00.644604",
     "status": "completed"
    },
    "tags": []
   },
   "source": [
    "Tạo tệp kết quả"
   ]
  },
  {
   "cell_type": "code",
   "execution_count": 25,
   "id": "3fd827e6",
   "metadata": {
    "execution": {
     "iopub.execute_input": "2025-01-17T03:01:00.674628Z",
     "iopub.status.busy": "2025-01-17T03:01:00.674035Z",
     "iopub.status.idle": "2025-01-17T03:01:00.691454Z",
     "shell.execute_reply": "2025-01-17T03:01:00.690578Z"
    },
    "papermill": {
     "duration": 0.031413,
     "end_time": "2025-01-17T03:01:00.694459",
     "exception": false,
     "start_time": "2025-01-17T03:01:00.663046",
     "status": "completed"
    },
    "tags": []
   },
   "outputs": [
    {
     "name": "stdout",
     "output_type": "stream",
     "text": [
      "Submission file created successfully!\n"
     ]
    }
   ],
   "source": [
    "if VALID:\n",
    "    train_df['recall_ids'] = predicts_test\n",
    "    print(mapk([[data] for data in train_df['answer_id'].values],train_df['recall_ids'].values))\n",
    "else:\n",
    "    train_df['MisconceptionId'] = [' '.join(map(str,c)) for c in predicts_test]\n",
    "    sub = []\n",
    "    for _,row in train_df.iterrows():\n",
    "        sub.append(\n",
    "            {\n",
    "                \"QuestionId_Answer\":f\"{row['QuestionId']}_{row['answer_name']}\",\n",
    "                \"MisconceptionId\":row['MisconceptionId']\n",
    "            }\n",
    "        )\n",
    "    submission_df = pd.DataFrame(sub)\n",
    "    submission_df.to_csv(\"submission.csv\", index=False)\n",
    "    print(\"Submission file created successfully!\")"
   ]
  }
 ],
 "metadata": {
  "kaggle": {
   "accelerator": "gpu",
   "dataSources": [
    {
     "databundleVersionId": 9738540,
     "sourceId": 82695,
     "sourceType": "competition"
    },
    {
     "datasetId": 5297895,
     "sourceId": 8897601,
     "sourceType": "datasetVersion"
    },
    {
     "datasetId": 5251603,
     "sourceId": 9094368,
     "sourceType": "datasetVersion"
    },
    {
     "datasetId": 5920031,
     "sourceId": 9688062,
     "sourceType": "datasetVersion"
    },
    {
     "datasetId": 5968152,
     "sourceId": 9748502,
     "sourceType": "datasetVersion"
    },
    {
     "datasetId": 5995078,
     "sourceId": 9784958,
     "sourceType": "datasetVersion"
    },
    {
     "datasetId": 6020151,
     "sourceId": 9818805,
     "sourceType": "datasetVersion"
    },
    {
     "datasetId": 6135443,
     "sourceId": 9972502,
     "sourceType": "datasetVersion"
    },
    {
     "modelId": 160606,
     "modelInstanceId": 137919,
     "sourceId": 162181,
     "sourceType": "modelInstanceVersion"
    },
    {
     "modelId": 165390,
     "modelInstanceId": 142811,
     "sourceId": 167864,
     "sourceType": "modelInstanceVersion"
    }
   ],
   "dockerImageVersionId": 30787,
   "isGpuEnabled": true,
   "isInternetEnabled": false,
   "language": "python",
   "sourceType": "notebook"
  },
  "kernelspec": {
   "display_name": "Python 3",
   "language": "python",
   "name": "python3"
  },
  "language_info": {
   "codemirror_mode": {
    "name": "ipython",
    "version": 3
   },
   "file_extension": ".py",
   "mimetype": "text/x-python",
   "name": "python",
   "nbconvert_exporter": "python",
   "pygments_lexer": "ipython3",
   "version": "3.10.14"
  },
  "papermill": {
   "default_parameters": {},
   "duration": 303.824745,
   "end_time": "2025-01-17T03:01:03.625466",
   "environment_variables": {},
   "exception": null,
   "input_path": "__notebook__.ipynb",
   "output_path": "__notebook__.ipynb",
   "parameters": {},
   "start_time": "2025-01-17T02:55:59.800721",
   "version": "2.6.0"
  },
  "widgets": {
   "application/vnd.jupyter.widget-state+json": {
    "state": {
     "05560b96463a41d882c5368cbee3342b": {
      "model_module": "@jupyter-widgets/controls",
      "model_module_version": "1.5.0",
      "model_name": "HBoxModel",
      "state": {
       "_dom_classes": [],
       "_model_module": "@jupyter-widgets/controls",
       "_model_module_version": "1.5.0",
       "_model_name": "HBoxModel",
       "_view_count": null,
       "_view_module": "@jupyter-widgets/controls",
       "_view_module_version": "1.5.0",
       "_view_name": "HBoxView",
       "box_style": "",
       "children": [
        "IPY_MODEL_64610baf7e96416aa757c8c2900a459b",
        "IPY_MODEL_97f706eee9574b238a2a1984f9ab3cc6",
        "IPY_MODEL_c3b616634fe943bab76784ca45388084"
       ],
       "layout": "IPY_MODEL_1b458cf3a9374dc5b87a601288f01a45"
      }
     },
     "0c0002e1bd004e06b18a68db67269487": {
      "model_module": "@jupyter-widgets/controls",
      "model_module_version": "1.5.0",
      "model_name": "DescriptionStyleModel",
      "state": {
       "_model_module": "@jupyter-widgets/controls",
       "_model_module_version": "1.5.0",
       "_model_name": "DescriptionStyleModel",
       "_view_count": null,
       "_view_module": "@jupyter-widgets/base",
       "_view_module_version": "1.2.0",
       "_view_name": "StyleView",
       "description_width": ""
      }
     },
     "13585bd25d414617bb8fbe906e456544": {
      "model_module": "@jupyter-widgets/controls",
      "model_module_version": "1.5.0",
      "model_name": "HTMLModel",
      "state": {
       "_dom_classes": [],
       "_model_module": "@jupyter-widgets/controls",
       "_model_module_version": "1.5.0",
       "_model_name": "HTMLModel",
       "_view_count": null,
       "_view_module": "@jupyter-widgets/controls",
       "_view_module_version": "1.5.0",
       "_view_name": "HTMLView",
       "description": "",
       "description_tooltip": null,
       "layout": "IPY_MODEL_9e36c097d5a84f9a954c8bb87b9a9954",
       "placeholder": "​",
       "style": "IPY_MODEL_7b7c754c3e0242a0a66ec74cb77cb390",
       "value": " 9/? [00:00&lt;00:00, 637.68it/s]"
      }
     },
     "1b458cf3a9374dc5b87a601288f01a45": {
      "model_module": "@jupyter-widgets/base",
      "model_module_version": "1.2.0",
      "model_name": "LayoutModel",
      "state": {
       "_model_module": "@jupyter-widgets/base",
       "_model_module_version": "1.2.0",
       "_model_name": "LayoutModel",
       "_view_count": null,
       "_view_module": "@jupyter-widgets/base",
       "_view_module_version": "1.2.0",
       "_view_name": "LayoutView",
       "align_content": null,
       "align_items": null,
       "align_self": null,
       "border": null,
       "bottom": null,
       "display": null,
       "flex": null,
       "flex_flow": null,
       "grid_area": null,
       "grid_auto_columns": null,
       "grid_auto_flow": null,
       "grid_auto_rows": null,
       "grid_column": null,
       "grid_gap": null,
       "grid_row": null,
       "grid_template_areas": null,
       "grid_template_columns": null,
       "grid_template_rows": null,
       "height": null,
       "justify_content": null,
       "justify_items": null,
       "left": null,
       "margin": null,
       "max_height": null,
       "max_width": null,
       "min_height": null,
       "min_width": null,
       "object_fit": null,
       "object_position": null,
       "order": null,
       "overflow": null,
       "overflow_x": null,
       "overflow_y": null,
       "padding": null,
       "right": null,
       "top": null,
       "visibility": null,
       "width": null
      }
     },
     "2e8ce4f1a81e456da43c17b3fe250f5f": {
      "model_module": "@jupyter-widgets/controls",
      "model_module_version": "1.5.0",
      "model_name": "HBoxModel",
      "state": {
       "_dom_classes": [],
       "_model_module": "@jupyter-widgets/controls",
       "_model_module_version": "1.5.0",
       "_model_name": "HBoxModel",
       "_view_count": null,
       "_view_module": "@jupyter-widgets/controls",
       "_view_module_version": "1.5.0",
       "_view_name": "HBoxView",
       "box_style": "",
       "children": [
        "IPY_MODEL_9a61b1f7fd89460b8bd4e86efbcde6a9",
        "IPY_MODEL_a85d3f881a7a47c7824ff57a02c9fd65",
        "IPY_MODEL_13585bd25d414617bb8fbe906e456544"
       ],
       "layout": "IPY_MODEL_959418a3498d4b12b1210b09731f733b"
      }
     },
     "303af89225384095ab42c3229261baae": {
      "model_module": "@jupyter-widgets/controls",
      "model_module_version": "1.5.0",
      "model_name": "ProgressStyleModel",
      "state": {
       "_model_module": "@jupyter-widgets/controls",
       "_model_module_version": "1.5.0",
       "_model_name": "ProgressStyleModel",
       "_view_count": null,
       "_view_module": "@jupyter-widgets/base",
       "_view_module_version": "1.2.0",
       "_view_name": "StyleView",
       "bar_color": null,
       "description_width": ""
      }
     },
     "327ffa7dd2494a8db56427a61305bd3a": {
      "model_module": "@jupyter-widgets/controls",
      "model_module_version": "1.5.0",
      "model_name": "DescriptionStyleModel",
      "state": {
       "_model_module": "@jupyter-widgets/controls",
       "_model_module_version": "1.5.0",
       "_model_name": "DescriptionStyleModel",
       "_view_count": null,
       "_view_module": "@jupyter-widgets/base",
       "_view_module_version": "1.2.0",
       "_view_name": "StyleView",
       "description_width": ""
      }
     },
     "3fca7ace13614db7b017c8b1161e80ac": {
      "model_module": "@jupyter-widgets/base",
      "model_module_version": "1.2.0",
      "model_name": "LayoutModel",
      "state": {
       "_model_module": "@jupyter-widgets/base",
       "_model_module_version": "1.2.0",
       "_model_name": "LayoutModel",
       "_view_count": null,
       "_view_module": "@jupyter-widgets/base",
       "_view_module_version": "1.2.0",
       "_view_name": "LayoutView",
       "align_content": null,
       "align_items": null,
       "align_self": null,
       "border": null,
       "bottom": null,
       "display": null,
       "flex": null,
       "flex_flow": null,
       "grid_area": null,
       "grid_auto_columns": null,
       "grid_auto_flow": null,
       "grid_auto_rows": null,
       "grid_column": null,
       "grid_gap": null,
       "grid_row": null,
       "grid_template_areas": null,
       "grid_template_columns": null,
       "grid_template_rows": null,
       "height": null,
       "justify_content": null,
       "justify_items": null,
       "left": null,
       "margin": null,
       "max_height": null,
       "max_width": null,
       "min_height": null,
       "min_width": null,
       "object_fit": null,
       "object_position": null,
       "order": null,
       "overflow": null,
       "overflow_x": null,
       "overflow_y": null,
       "padding": null,
       "right": null,
       "top": null,
       "visibility": null,
       "width": null
      }
     },
     "4ac2be111975478c91b1bf769c3bbefc": {
      "model_module": "@jupyter-widgets/controls",
      "model_module_version": "1.5.0",
      "model_name": "FloatProgressModel",
      "state": {
       "_dom_classes": [],
       "_model_module": "@jupyter-widgets/controls",
       "_model_module_version": "1.5.0",
       "_model_name": "FloatProgressModel",
       "_view_count": null,
       "_view_module": "@jupyter-widgets/controls",
       "_view_module_version": "1.5.0",
       "_view_name": "ProgressView",
       "bar_style": "success",
       "description": "",
       "description_tooltip": null,
       "layout": "IPY_MODEL_a706c011b5774671aa1df429a836cf19",
       "max": 1,
       "min": 0,
       "orientation": "horizontal",
       "style": "IPY_MODEL_303af89225384095ab42c3229261baae",
       "value": 1
      }
     },
     "4c20a00f9ad54707981c522a8ba929dc": {
      "model_module": "@jupyter-widgets/controls",
      "model_module_version": "1.5.0",
      "model_name": "HTMLModel",
      "state": {
       "_dom_classes": [],
       "_model_module": "@jupyter-widgets/controls",
       "_model_module_version": "1.5.0",
       "_model_name": "HTMLModel",
       "_view_count": null,
       "_view_module": "@jupyter-widgets/controls",
       "_view_module_version": "1.5.0",
       "_view_name": "HTMLView",
       "description": "",
       "description_tooltip": null,
       "layout": "IPY_MODEL_94dacb779e2f4c278ffbebe5fb8af36d",
       "placeholder": "​",
       "style": "IPY_MODEL_a5d7313f7d0240deb0ed7e72ffd336a3",
       "value": " 1/1 [00:01&lt;00:00,  1.19s/it]"
      }
     },
     "50e3adc7af514cdda6d945276362d286": {
      "model_module": "@jupyter-widgets/base",
      "model_module_version": "1.2.0",
      "model_name": "LayoutModel",
      "state": {
       "_model_module": "@jupyter-widgets/base",
       "_model_module_version": "1.2.0",
       "_model_name": "LayoutModel",
       "_view_count": null,
       "_view_module": "@jupyter-widgets/base",
       "_view_module_version": "1.2.0",
       "_view_name": "LayoutView",
       "align_content": null,
       "align_items": null,
       "align_self": null,
       "border": null,
       "bottom": null,
       "display": null,
       "flex": null,
       "flex_flow": null,
       "grid_area": null,
       "grid_auto_columns": null,
       "grid_auto_flow": null,
       "grid_auto_rows": null,
       "grid_column": null,
       "grid_gap": null,
       "grid_row": null,
       "grid_template_areas": null,
       "grid_template_columns": null,
       "grid_template_rows": null,
       "height": null,
       "justify_content": null,
       "justify_items": null,
       "left": null,
       "margin": null,
       "max_height": null,
       "max_width": null,
       "min_height": null,
       "min_width": null,
       "object_fit": null,
       "object_position": null,
       "order": null,
       "overflow": null,
       "overflow_x": null,
       "overflow_y": null,
       "padding": null,
       "right": null,
       "top": null,
       "visibility": null,
       "width": null
      }
     },
     "548b37d338ca44c5a547158dd024aac8": {
      "model_module": "@jupyter-widgets/base",
      "model_module_version": "1.2.0",
      "model_name": "LayoutModel",
      "state": {
       "_model_module": "@jupyter-widgets/base",
       "_model_module_version": "1.2.0",
       "_model_name": "LayoutModel",
       "_view_count": null,
       "_view_module": "@jupyter-widgets/base",
       "_view_module_version": "1.2.0",
       "_view_name": "LayoutView",
       "align_content": null,
       "align_items": null,
       "align_self": null,
       "border": null,
       "bottom": null,
       "display": null,
       "flex": null,
       "flex_flow": null,
       "grid_area": null,
       "grid_auto_columns": null,
       "grid_auto_flow": null,
       "grid_auto_rows": null,
       "grid_column": null,
       "grid_gap": null,
       "grid_row": null,
       "grid_template_areas": null,
       "grid_template_columns": null,
       "grid_template_rows": null,
       "height": null,
       "justify_content": null,
       "justify_items": null,
       "left": null,
       "margin": null,
       "max_height": null,
       "max_width": null,
       "min_height": null,
       "min_width": null,
       "object_fit": null,
       "object_position": null,
       "order": null,
       "overflow": null,
       "overflow_x": null,
       "overflow_y": null,
       "padding": null,
       "right": null,
       "top": null,
       "visibility": null,
       "width": null
      }
     },
     "54d3f9af90fa47ee92f573f8808358a0": {
      "model_module": "@jupyter-widgets/controls",
      "model_module_version": "1.5.0",
      "model_name": "ProgressStyleModel",
      "state": {
       "_model_module": "@jupyter-widgets/controls",
       "_model_module_version": "1.5.0",
       "_model_name": "ProgressStyleModel",
       "_view_count": null,
       "_view_module": "@jupyter-widgets/base",
       "_view_module_version": "1.2.0",
       "_view_name": "StyleView",
       "bar_color": null,
       "description_width": ""
      }
     },
     "60b8eb2e917d4f6fb0176064b9a4a4b5": {
      "model_module": "@jupyter-widgets/controls",
      "model_module_version": "1.5.0",
      "model_name": "ProgressStyleModel",
      "state": {
       "_model_module": "@jupyter-widgets/controls",
       "_model_module_version": "1.5.0",
       "_model_name": "ProgressStyleModel",
       "_view_count": null,
       "_view_module": "@jupyter-widgets/base",
       "_view_module_version": "1.2.0",
       "_view_name": "StyleView",
       "bar_color": null,
       "description_width": ""
      }
     },
     "64610baf7e96416aa757c8c2900a459b": {
      "model_module": "@jupyter-widgets/controls",
      "model_module_version": "1.5.0",
      "model_name": "HTMLModel",
      "state": {
       "_dom_classes": [],
       "_model_module": "@jupyter-widgets/controls",
       "_model_module_version": "1.5.0",
       "_model_name": "HTMLModel",
       "_view_count": null,
       "_view_module": "@jupyter-widgets/controls",
       "_view_module_version": "1.5.0",
       "_view_name": "HTMLView",
       "description": "",
       "description_tooltip": null,
       "layout": "IPY_MODEL_7fe39909c29b48c092d00a47569ee98f",
       "placeholder": "​",
       "style": "IPY_MODEL_828c8e3e9ad3485e9c30526d452004fa",
       "value": "Batches: 100%"
      }
     },
     "7b7c754c3e0242a0a66ec74cb77cb390": {
      "model_module": "@jupyter-widgets/controls",
      "model_module_version": "1.5.0",
      "model_name": "DescriptionStyleModel",
      "state": {
       "_model_module": "@jupyter-widgets/controls",
       "_model_module_version": "1.5.0",
       "_model_name": "DescriptionStyleModel",
       "_view_count": null,
       "_view_module": "@jupyter-widgets/base",
       "_view_module_version": "1.2.0",
       "_view_name": "StyleView",
       "description_width": ""
      }
     },
     "7fe39909c29b48c092d00a47569ee98f": {
      "model_module": "@jupyter-widgets/base",
      "model_module_version": "1.2.0",
      "model_name": "LayoutModel",
      "state": {
       "_model_module": "@jupyter-widgets/base",
       "_model_module_version": "1.2.0",
       "_model_name": "LayoutModel",
       "_view_count": null,
       "_view_module": "@jupyter-widgets/base",
       "_view_module_version": "1.2.0",
       "_view_name": "LayoutView",
       "align_content": null,
       "align_items": null,
       "align_self": null,
       "border": null,
       "bottom": null,
       "display": null,
       "flex": null,
       "flex_flow": null,
       "grid_area": null,
       "grid_auto_columns": null,
       "grid_auto_flow": null,
       "grid_auto_rows": null,
       "grid_column": null,
       "grid_gap": null,
       "grid_row": null,
       "grid_template_areas": null,
       "grid_template_columns": null,
       "grid_template_rows": null,
       "height": null,
       "justify_content": null,
       "justify_items": null,
       "left": null,
       "margin": null,
       "max_height": null,
       "max_width": null,
       "min_height": null,
       "min_width": null,
       "object_fit": null,
       "object_position": null,
       "order": null,
       "overflow": null,
       "overflow_x": null,
       "overflow_y": null,
       "padding": null,
       "right": null,
       "top": null,
       "visibility": null,
       "width": null
      }
     },
     "828c8e3e9ad3485e9c30526d452004fa": {
      "model_module": "@jupyter-widgets/controls",
      "model_module_version": "1.5.0",
      "model_name": "DescriptionStyleModel",
      "state": {
       "_model_module": "@jupyter-widgets/controls",
       "_model_module_version": "1.5.0",
       "_model_name": "DescriptionStyleModel",
       "_view_count": null,
       "_view_module": "@jupyter-widgets/base",
       "_view_module_version": "1.2.0",
       "_view_name": "StyleView",
       "description_width": ""
      }
     },
     "84513ff6d3514d7f9fd8146f804dc773": {
      "model_module": "@jupyter-widgets/base",
      "model_module_version": "1.2.0",
      "model_name": "LayoutModel",
      "state": {
       "_model_module": "@jupyter-widgets/base",
       "_model_module_version": "1.2.0",
       "_model_name": "LayoutModel",
       "_view_count": null,
       "_view_module": "@jupyter-widgets/base",
       "_view_module_version": "1.2.0",
       "_view_name": "LayoutView",
       "align_content": null,
       "align_items": null,
       "align_self": null,
       "border": null,
       "bottom": null,
       "display": null,
       "flex": null,
       "flex_flow": null,
       "grid_area": null,
       "grid_auto_columns": null,
       "grid_auto_flow": null,
       "grid_auto_rows": null,
       "grid_column": null,
       "grid_gap": null,
       "grid_row": null,
       "grid_template_areas": null,
       "grid_template_columns": null,
       "grid_template_rows": null,
       "height": null,
       "justify_content": null,
       "justify_items": null,
       "left": null,
       "margin": null,
       "max_height": null,
       "max_width": null,
       "min_height": null,
       "min_width": null,
       "object_fit": null,
       "object_position": null,
       "order": null,
       "overflow": null,
       "overflow_x": null,
       "overflow_y": null,
       "padding": null,
       "right": null,
       "top": null,
       "visibility": null,
       "width": null
      }
     },
     "87d518db1e164041a07315c7b553b521": {
      "model_module": "@jupyter-widgets/base",
      "model_module_version": "1.2.0",
      "model_name": "LayoutModel",
      "state": {
       "_model_module": "@jupyter-widgets/base",
       "_model_module_version": "1.2.0",
       "_model_name": "LayoutModel",
       "_view_count": null,
       "_view_module": "@jupyter-widgets/base",
       "_view_module_version": "1.2.0",
       "_view_name": "LayoutView",
       "align_content": null,
       "align_items": null,
       "align_self": null,
       "border": null,
       "bottom": null,
       "display": null,
       "flex": null,
       "flex_flow": null,
       "grid_area": null,
       "grid_auto_columns": null,
       "grid_auto_flow": null,
       "grid_auto_rows": null,
       "grid_column": null,
       "grid_gap": null,
       "grid_row": null,
       "grid_template_areas": null,
       "grid_template_columns": null,
       "grid_template_rows": null,
       "height": null,
       "justify_content": null,
       "justify_items": null,
       "left": null,
       "margin": null,
       "max_height": null,
       "max_width": null,
       "min_height": null,
       "min_width": null,
       "object_fit": null,
       "object_position": null,
       "order": null,
       "overflow": null,
       "overflow_x": null,
       "overflow_y": null,
       "padding": null,
       "right": null,
       "top": null,
       "visibility": null,
       "width": null
      }
     },
     "94dacb779e2f4c278ffbebe5fb8af36d": {
      "model_module": "@jupyter-widgets/base",
      "model_module_version": "1.2.0",
      "model_name": "LayoutModel",
      "state": {
       "_model_module": "@jupyter-widgets/base",
       "_model_module_version": "1.2.0",
       "_model_name": "LayoutModel",
       "_view_count": null,
       "_view_module": "@jupyter-widgets/base",
       "_view_module_version": "1.2.0",
       "_view_name": "LayoutView",
       "align_content": null,
       "align_items": null,
       "align_self": null,
       "border": null,
       "bottom": null,
       "display": null,
       "flex": null,
       "flex_flow": null,
       "grid_area": null,
       "grid_auto_columns": null,
       "grid_auto_flow": null,
       "grid_auto_rows": null,
       "grid_column": null,
       "grid_gap": null,
       "grid_row": null,
       "grid_template_areas": null,
       "grid_template_columns": null,
       "grid_template_rows": null,
       "height": null,
       "justify_content": null,
       "justify_items": null,
       "left": null,
       "margin": null,
       "max_height": null,
       "max_width": null,
       "min_height": null,
       "min_width": null,
       "object_fit": null,
       "object_position": null,
       "order": null,
       "overflow": null,
       "overflow_x": null,
       "overflow_y": null,
       "padding": null,
       "right": null,
       "top": null,
       "visibility": null,
       "width": null
      }
     },
     "959418a3498d4b12b1210b09731f733b": {
      "model_module": "@jupyter-widgets/base",
      "model_module_version": "1.2.0",
      "model_name": "LayoutModel",
      "state": {
       "_model_module": "@jupyter-widgets/base",
       "_model_module_version": "1.2.0",
       "_model_name": "LayoutModel",
       "_view_count": null,
       "_view_module": "@jupyter-widgets/base",
       "_view_module_version": "1.2.0",
       "_view_name": "LayoutView",
       "align_content": null,
       "align_items": null,
       "align_self": null,
       "border": null,
       "bottom": null,
       "display": null,
       "flex": null,
       "flex_flow": null,
       "grid_area": null,
       "grid_auto_columns": null,
       "grid_auto_flow": null,
       "grid_auto_rows": null,
       "grid_column": null,
       "grid_gap": null,
       "grid_row": null,
       "grid_template_areas": null,
       "grid_template_columns": null,
       "grid_template_rows": null,
       "height": null,
       "justify_content": null,
       "justify_items": null,
       "left": null,
       "margin": null,
       "max_height": null,
       "max_width": null,
       "min_height": null,
       "min_width": null,
       "object_fit": null,
       "object_position": null,
       "order": null,
       "overflow": null,
       "overflow_x": null,
       "overflow_y": null,
       "padding": null,
       "right": null,
       "top": null,
       "visibility": null,
       "width": null
      }
     },
     "97f706eee9574b238a2a1984f9ab3cc6": {
      "model_module": "@jupyter-widgets/controls",
      "model_module_version": "1.5.0",
      "model_name": "FloatProgressModel",
      "state": {
       "_dom_classes": [],
       "_model_module": "@jupyter-widgets/controls",
       "_model_module_version": "1.5.0",
       "_model_name": "FloatProgressModel",
       "_view_count": null,
       "_view_module": "@jupyter-widgets/controls",
       "_view_module_version": "1.5.0",
       "_view_name": "ProgressView",
       "bar_style": "success",
       "description": "",
       "description_tooltip": null,
       "layout": "IPY_MODEL_d52bbb79113244f9be13e2ff68ea3db1",
       "max": 1,
       "min": 0,
       "orientation": "horizontal",
       "style": "IPY_MODEL_60b8eb2e917d4f6fb0176064b9a4a4b5",
       "value": 1
      }
     },
     "9a61b1f7fd89460b8bd4e86efbcde6a9": {
      "model_module": "@jupyter-widgets/controls",
      "model_module_version": "1.5.0",
      "model_name": "HTMLModel",
      "state": {
       "_dom_classes": [],
       "_model_module": "@jupyter-widgets/controls",
       "_model_module_version": "1.5.0",
       "_model_name": "HTMLModel",
       "_view_count": null,
       "_view_module": "@jupyter-widgets/controls",
       "_view_module_version": "1.5.0",
       "_view_name": "HTMLView",
       "description": "",
       "description_tooltip": null,
       "layout": "IPY_MODEL_3fca7ace13614db7b017c8b1161e80ac",
       "placeholder": "​",
       "style": "IPY_MODEL_327ffa7dd2494a8db56427a61305bd3a",
       "value": ""
      }
     },
     "9e36c097d5a84f9a954c8bb87b9a9954": {
      "model_module": "@jupyter-widgets/base",
      "model_module_version": "1.2.0",
      "model_name": "LayoutModel",
      "state": {
       "_model_module": "@jupyter-widgets/base",
       "_model_module_version": "1.2.0",
       "_model_name": "LayoutModel",
       "_view_count": null,
       "_view_module": "@jupyter-widgets/base",
       "_view_module_version": "1.2.0",
       "_view_name": "LayoutView",
       "align_content": null,
       "align_items": null,
       "align_self": null,
       "border": null,
       "bottom": null,
       "display": null,
       "flex": null,
       "flex_flow": null,
       "grid_area": null,
       "grid_auto_columns": null,
       "grid_auto_flow": null,
       "grid_auto_rows": null,
       "grid_column": null,
       "grid_gap": null,
       "grid_row": null,
       "grid_template_areas": null,
       "grid_template_columns": null,
       "grid_template_rows": null,
       "height": null,
       "justify_content": null,
       "justify_items": null,
       "left": null,
       "margin": null,
       "max_height": null,
       "max_width": null,
       "min_height": null,
       "min_width": null,
       "object_fit": null,
       "object_position": null,
       "order": null,
       "overflow": null,
       "overflow_x": null,
       "overflow_y": null,
       "padding": null,
       "right": null,
       "top": null,
       "visibility": null,
       "width": null
      }
     },
     "a5d7313f7d0240deb0ed7e72ffd336a3": {
      "model_module": "@jupyter-widgets/controls",
      "model_module_version": "1.5.0",
      "model_name": "DescriptionStyleModel",
      "state": {
       "_model_module": "@jupyter-widgets/controls",
       "_model_module_version": "1.5.0",
       "_model_name": "DescriptionStyleModel",
       "_view_count": null,
       "_view_module": "@jupyter-widgets/base",
       "_view_module_version": "1.2.0",
       "_view_name": "StyleView",
       "description_width": ""
      }
     },
     "a706c011b5774671aa1df429a836cf19": {
      "model_module": "@jupyter-widgets/base",
      "model_module_version": "1.2.0",
      "model_name": "LayoutModel",
      "state": {
       "_model_module": "@jupyter-widgets/base",
       "_model_module_version": "1.2.0",
       "_model_name": "LayoutModel",
       "_view_count": null,
       "_view_module": "@jupyter-widgets/base",
       "_view_module_version": "1.2.0",
       "_view_name": "LayoutView",
       "align_content": null,
       "align_items": null,
       "align_self": null,
       "border": null,
       "bottom": null,
       "display": null,
       "flex": null,
       "flex_flow": null,
       "grid_area": null,
       "grid_auto_columns": null,
       "grid_auto_flow": null,
       "grid_auto_rows": null,
       "grid_column": null,
       "grid_gap": null,
       "grid_row": null,
       "grid_template_areas": null,
       "grid_template_columns": null,
       "grid_template_rows": null,
       "height": null,
       "justify_content": null,
       "justify_items": null,
       "left": null,
       "margin": null,
       "max_height": null,
       "max_width": null,
       "min_height": null,
       "min_width": null,
       "object_fit": null,
       "object_position": null,
       "order": null,
       "overflow": null,
       "overflow_x": null,
       "overflow_y": null,
       "padding": null,
       "right": null,
       "top": null,
       "visibility": null,
       "width": null
      }
     },
     "a85d3f881a7a47c7824ff57a02c9fd65": {
      "model_module": "@jupyter-widgets/controls",
      "model_module_version": "1.5.0",
      "model_name": "FloatProgressModel",
      "state": {
       "_dom_classes": [],
       "_model_module": "@jupyter-widgets/controls",
       "_model_module_version": "1.5.0",
       "_model_name": "FloatProgressModel",
       "_view_count": null,
       "_view_module": "@jupyter-widgets/controls",
       "_view_module_version": "1.5.0",
       "_view_name": "ProgressView",
       "bar_style": "success",
       "description": "",
       "description_tooltip": null,
       "layout": "IPY_MODEL_def4f08a04cf4eb2a1ff60802ea04dcc",
       "max": 1,
       "min": 0,
       "orientation": "horizontal",
       "style": "IPY_MODEL_54d3f9af90fa47ee92f573f8808358a0",
       "value": 1
      }
     },
     "b46e7761a5234740a5ead6f16a9be52a": {
      "model_module": "@jupyter-widgets/controls",
      "model_module_version": "1.5.0",
      "model_name": "DescriptionStyleModel",
      "state": {
       "_model_module": "@jupyter-widgets/controls",
       "_model_module_version": "1.5.0",
       "_model_name": "DescriptionStyleModel",
       "_view_count": null,
       "_view_module": "@jupyter-widgets/base",
       "_view_module_version": "1.2.0",
       "_view_name": "StyleView",
       "description_width": ""
      }
     },
     "b781779953034552b28c54e3c1788572": {
      "model_module": "@jupyter-widgets/controls",
      "model_module_version": "1.5.0",
      "model_name": "DescriptionStyleModel",
      "state": {
       "_model_module": "@jupyter-widgets/controls",
       "_model_module_version": "1.5.0",
       "_model_name": "DescriptionStyleModel",
       "_view_count": null,
       "_view_module": "@jupyter-widgets/base",
       "_view_module_version": "1.2.0",
       "_view_name": "StyleView",
       "description_width": ""
      }
     },
     "c3b616634fe943bab76784ca45388084": {
      "model_module": "@jupyter-widgets/controls",
      "model_module_version": "1.5.0",
      "model_name": "HTMLModel",
      "state": {
       "_dom_classes": [],
       "_model_module": "@jupyter-widgets/controls",
       "_model_module_version": "1.5.0",
       "_model_name": "HTMLModel",
       "_view_count": null,
       "_view_module": "@jupyter-widgets/controls",
       "_view_module_version": "1.5.0",
       "_view_name": "HTMLView",
       "description": "",
       "description_tooltip": null,
       "layout": "IPY_MODEL_d6866294c8ce4ef6893cda42ffaa0624",
       "placeholder": "​",
       "style": "IPY_MODEL_b781779953034552b28c54e3c1788572",
       "value": " 1/1 [00:17&lt;00:00, 17.92s/it]"
      }
     },
     "ce62ccc182a14125a1fefc3ddad8d6eb": {
      "model_module": "@jupyter-widgets/controls",
      "model_module_version": "1.5.0",
      "model_name": "HBoxModel",
      "state": {
       "_dom_classes": [],
       "_model_module": "@jupyter-widgets/controls",
       "_model_module_version": "1.5.0",
       "_model_name": "HBoxModel",
       "_view_count": null,
       "_view_module": "@jupyter-widgets/controls",
       "_view_module_version": "1.5.0",
       "_view_name": "HBoxView",
       "box_style": "",
       "children": [
        "IPY_MODEL_e4389da9ed5f43129e9080cca2667212",
        "IPY_MODEL_ddaf09c54edb430c867198334a516631",
        "IPY_MODEL_eb6d4ba5cf5b454e80e7194463a14d02"
       ],
       "layout": "IPY_MODEL_50e3adc7af514cdda6d945276362d286"
      }
     },
     "d52bbb79113244f9be13e2ff68ea3db1": {
      "model_module": "@jupyter-widgets/base",
      "model_module_version": "1.2.0",
      "model_name": "LayoutModel",
      "state": {
       "_model_module": "@jupyter-widgets/base",
       "_model_module_version": "1.2.0",
       "_model_name": "LayoutModel",
       "_view_count": null,
       "_view_module": "@jupyter-widgets/base",
       "_view_module_version": "1.2.0",
       "_view_name": "LayoutView",
       "align_content": null,
       "align_items": null,
       "align_self": null,
       "border": null,
       "bottom": null,
       "display": null,
       "flex": null,
       "flex_flow": null,
       "grid_area": null,
       "grid_auto_columns": null,
       "grid_auto_flow": null,
       "grid_auto_rows": null,
       "grid_column": null,
       "grid_gap": null,
       "grid_row": null,
       "grid_template_areas": null,
       "grid_template_columns": null,
       "grid_template_rows": null,
       "height": null,
       "justify_content": null,
       "justify_items": null,
       "left": null,
       "margin": null,
       "max_height": null,
       "max_width": null,
       "min_height": null,
       "min_width": null,
       "object_fit": null,
       "object_position": null,
       "order": null,
       "overflow": null,
       "overflow_x": null,
       "overflow_y": null,
       "padding": null,
       "right": null,
       "top": null,
       "visibility": null,
       "width": null
      }
     },
     "d6866294c8ce4ef6893cda42ffaa0624": {
      "model_module": "@jupyter-widgets/base",
      "model_module_version": "1.2.0",
      "model_name": "LayoutModel",
      "state": {
       "_model_module": "@jupyter-widgets/base",
       "_model_module_version": "1.2.0",
       "_model_name": "LayoutModel",
       "_view_count": null,
       "_view_module": "@jupyter-widgets/base",
       "_view_module_version": "1.2.0",
       "_view_name": "LayoutView",
       "align_content": null,
       "align_items": null,
       "align_self": null,
       "border": null,
       "bottom": null,
       "display": null,
       "flex": null,
       "flex_flow": null,
       "grid_area": null,
       "grid_auto_columns": null,
       "grid_auto_flow": null,
       "grid_auto_rows": null,
       "grid_column": null,
       "grid_gap": null,
       "grid_row": null,
       "grid_template_areas": null,
       "grid_template_columns": null,
       "grid_template_rows": null,
       "height": null,
       "justify_content": null,
       "justify_items": null,
       "left": null,
       "margin": null,
       "max_height": null,
       "max_width": null,
       "min_height": null,
       "min_width": null,
       "object_fit": null,
       "object_position": null,
       "order": null,
       "overflow": null,
       "overflow_x": null,
       "overflow_y": null,
       "padding": null,
       "right": null,
       "top": null,
       "visibility": null,
       "width": null
      }
     },
     "d7fb8141f7a8470f895c04a313c0897e": {
      "model_module": "@jupyter-widgets/base",
      "model_module_version": "1.2.0",
      "model_name": "LayoutModel",
      "state": {
       "_model_module": "@jupyter-widgets/base",
       "_model_module_version": "1.2.0",
       "_model_name": "LayoutModel",
       "_view_count": null,
       "_view_module": "@jupyter-widgets/base",
       "_view_module_version": "1.2.0",
       "_view_name": "LayoutView",
       "align_content": null,
       "align_items": null,
       "align_self": null,
       "border": null,
       "bottom": null,
       "display": null,
       "flex": null,
       "flex_flow": null,
       "grid_area": null,
       "grid_auto_columns": null,
       "grid_auto_flow": null,
       "grid_auto_rows": null,
       "grid_column": null,
       "grid_gap": null,
       "grid_row": null,
       "grid_template_areas": null,
       "grid_template_columns": null,
       "grid_template_rows": null,
       "height": null,
       "justify_content": null,
       "justify_items": null,
       "left": null,
       "margin": null,
       "max_height": null,
       "max_width": null,
       "min_height": null,
       "min_width": null,
       "object_fit": null,
       "object_position": null,
       "order": null,
       "overflow": null,
       "overflow_x": null,
       "overflow_y": null,
       "padding": null,
       "right": null,
       "top": null,
       "visibility": null,
       "width": null
      }
     },
     "ddaf09c54edb430c867198334a516631": {
      "model_module": "@jupyter-widgets/controls",
      "model_module_version": "1.5.0",
      "model_name": "FloatProgressModel",
      "state": {
       "_dom_classes": [],
       "_model_module": "@jupyter-widgets/controls",
       "_model_module_version": "1.5.0",
       "_model_name": "FloatProgressModel",
       "_view_count": null,
       "_view_module": "@jupyter-widgets/controls",
       "_view_module_version": "1.5.0",
       "_view_name": "ProgressView",
       "bar_style": "success",
       "description": "",
       "description_tooltip": null,
       "layout": "IPY_MODEL_87d518db1e164041a07315c7b553b521",
       "max": 8,
       "min": 0,
       "orientation": "horizontal",
       "style": "IPY_MODEL_fd8107642a474970988afdca5ba7355a",
       "value": 8
      }
     },
     "def4f08a04cf4eb2a1ff60802ea04dcc": {
      "model_module": "@jupyter-widgets/base",
      "model_module_version": "1.2.0",
      "model_name": "LayoutModel",
      "state": {
       "_model_module": "@jupyter-widgets/base",
       "_model_module_version": "1.2.0",
       "_model_name": "LayoutModel",
       "_view_count": null,
       "_view_module": "@jupyter-widgets/base",
       "_view_module_version": "1.2.0",
       "_view_name": "LayoutView",
       "align_content": null,
       "align_items": null,
       "align_self": null,
       "border": null,
       "bottom": null,
       "display": null,
       "flex": null,
       "flex_flow": null,
       "grid_area": null,
       "grid_auto_columns": null,
       "grid_auto_flow": null,
       "grid_auto_rows": null,
       "grid_column": null,
       "grid_gap": null,
       "grid_row": null,
       "grid_template_areas": null,
       "grid_template_columns": null,
       "grid_template_rows": null,
       "height": null,
       "justify_content": null,
       "justify_items": null,
       "left": null,
       "margin": null,
       "max_height": null,
       "max_width": null,
       "min_height": null,
       "min_width": null,
       "object_fit": null,
       "object_position": null,
       "order": null,
       "overflow": null,
       "overflow_x": null,
       "overflow_y": null,
       "padding": null,
       "right": null,
       "top": null,
       "visibility": null,
       "width": "20px"
      }
     },
     "e4389da9ed5f43129e9080cca2667212": {
      "model_module": "@jupyter-widgets/controls",
      "model_module_version": "1.5.0",
      "model_name": "HTMLModel",
      "state": {
       "_dom_classes": [],
       "_model_module": "@jupyter-widgets/controls",
       "_model_module_version": "1.5.0",
       "_model_name": "HTMLModel",
       "_view_count": null,
       "_view_module": "@jupyter-widgets/controls",
       "_view_module_version": "1.5.0",
       "_view_name": "HTMLView",
       "description": "",
       "description_tooltip": null,
       "layout": "IPY_MODEL_84513ff6d3514d7f9fd8146f804dc773",
       "placeholder": "​",
       "style": "IPY_MODEL_0c0002e1bd004e06b18a68db67269487",
       "value": "Loading checkpoint shards: 100%"
      }
     },
     "e77dc0714e464ba894ca7ec12d3ef972": {
      "model_module": "@jupyter-widgets/base",
      "model_module_version": "1.2.0",
      "model_name": "LayoutModel",
      "state": {
       "_model_module": "@jupyter-widgets/base",
       "_model_module_version": "1.2.0",
       "_model_name": "LayoutModel",
       "_view_count": null,
       "_view_module": "@jupyter-widgets/base",
       "_view_module_version": "1.2.0",
       "_view_name": "LayoutView",
       "align_content": null,
       "align_items": null,
       "align_self": null,
       "border": null,
       "bottom": null,
       "display": null,
       "flex": null,
       "flex_flow": null,
       "grid_area": null,
       "grid_auto_columns": null,
       "grid_auto_flow": null,
       "grid_auto_rows": null,
       "grid_column": null,
       "grid_gap": null,
       "grid_row": null,
       "grid_template_areas": null,
       "grid_template_columns": null,
       "grid_template_rows": null,
       "height": null,
       "justify_content": null,
       "justify_items": null,
       "left": null,
       "margin": null,
       "max_height": null,
       "max_width": null,
       "min_height": null,
       "min_width": null,
       "object_fit": null,
       "object_position": null,
       "order": null,
       "overflow": null,
       "overflow_x": null,
       "overflow_y": null,
       "padding": null,
       "right": null,
       "top": null,
       "visibility": null,
       "width": null
      }
     },
     "e98c76bb16544449937f72fed2e2c2ee": {
      "model_module": "@jupyter-widgets/controls",
      "model_module_version": "1.5.0",
      "model_name": "HTMLModel",
      "state": {
       "_dom_classes": [],
       "_model_module": "@jupyter-widgets/controls",
       "_model_module_version": "1.5.0",
       "_model_name": "HTMLModel",
       "_view_count": null,
       "_view_module": "@jupyter-widgets/controls",
       "_view_module_version": "1.5.0",
       "_view_name": "HTMLView",
       "description": "",
       "description_tooltip": null,
       "layout": "IPY_MODEL_d7fb8141f7a8470f895c04a313c0897e",
       "placeholder": "​",
       "style": "IPY_MODEL_b46e7761a5234740a5ead6f16a9be52a",
       "value": "Batches: 100%"
      }
     },
     "e9e0fd488fe94c159bc30c137b11c045": {
      "model_module": "@jupyter-widgets/controls",
      "model_module_version": "1.5.0",
      "model_name": "HBoxModel",
      "state": {
       "_dom_classes": [],
       "_model_module": "@jupyter-widgets/controls",
       "_model_module_version": "1.5.0",
       "_model_name": "HBoxModel",
       "_view_count": null,
       "_view_module": "@jupyter-widgets/controls",
       "_view_module_version": "1.5.0",
       "_view_name": "HBoxView",
       "box_style": "",
       "children": [
        "IPY_MODEL_e98c76bb16544449937f72fed2e2c2ee",
        "IPY_MODEL_4ac2be111975478c91b1bf769c3bbefc",
        "IPY_MODEL_4c20a00f9ad54707981c522a8ba929dc"
       ],
       "layout": "IPY_MODEL_548b37d338ca44c5a547158dd024aac8"
      }
     },
     "eb6d4ba5cf5b454e80e7194463a14d02": {
      "model_module": "@jupyter-widgets/controls",
      "model_module_version": "1.5.0",
      "model_name": "HTMLModel",
      "state": {
       "_dom_classes": [],
       "_model_module": "@jupyter-widgets/controls",
       "_model_module_version": "1.5.0",
       "_model_name": "HTMLModel",
       "_view_count": null,
       "_view_module": "@jupyter-widgets/controls",
       "_view_module_version": "1.5.0",
       "_view_name": "HTMLView",
       "description": "",
       "description_tooltip": null,
       "layout": "IPY_MODEL_e77dc0714e464ba894ca7ec12d3ef972",
       "placeholder": "​",
       "style": "IPY_MODEL_f10264f933fd4e968a408c088f15bb30",
       "value": " 8/8 [02:41&lt;00:00, 15.88s/it]"
      }
     },
     "f10264f933fd4e968a408c088f15bb30": {
      "model_module": "@jupyter-widgets/controls",
      "model_module_version": "1.5.0",
      "model_name": "DescriptionStyleModel",
      "state": {
       "_model_module": "@jupyter-widgets/controls",
       "_model_module_version": "1.5.0",
       "_model_name": "DescriptionStyleModel",
       "_view_count": null,
       "_view_module": "@jupyter-widgets/base",
       "_view_module_version": "1.2.0",
       "_view_name": "StyleView",
       "description_width": ""
      }
     },
     "fd8107642a474970988afdca5ba7355a": {
      "model_module": "@jupyter-widgets/controls",
      "model_module_version": "1.5.0",
      "model_name": "ProgressStyleModel",
      "state": {
       "_model_module": "@jupyter-widgets/controls",
       "_model_module_version": "1.5.0",
       "_model_name": "ProgressStyleModel",
       "_view_count": null,
       "_view_module": "@jupyter-widgets/base",
       "_view_module_version": "1.2.0",
       "_view_name": "StyleView",
       "bar_color": null,
       "description_width": ""
      }
     }
    },
    "version_major": 2,
    "version_minor": 0
   }
  }
 },
 "nbformat": 4,
 "nbformat_minor": 5
}
